{
 "cells": [
  {
   "cell_type": "code",
   "execution_count": 2,
   "id": "8be42f40",
   "metadata": {},
   "outputs": [],
   "source": [
    "import os\n",
    "import random\n",
    "import shutil\n",
    "import time\n",
    "import warnings\n",
    "\n",
    "import torch\n",
    "import torch.nn as nn\n",
    "import torch.backends.cudnn as cudnn\n",
    "import torch.optim\n",
    "\n",
    "import torch.utils.data\n",
    "import torchvision\n",
    "import torchvision.transforms as transforms\n",
    "import torchvision.datasets as datasets\n",
    "import torchvision.models as models"
   ]
  },
  {
   "cell_type": "code",
   "execution_count": 3,
   "id": "bb67bc68",
   "metadata": {},
   "outputs": [],
   "source": [
    "from torch.cuda.amp import GradScaler\n",
    "from torch.cuda.amp import autocast"
   ]
  },
  {
   "cell_type": "code",
   "execution_count": 4,
   "id": "22052718",
   "metadata": {},
   "outputs": [],
   "source": [
    "from torch.utils.tensorboard import SummaryWriter\n",
    "writer = SummaryWriter()"
   ]
  },
  {
   "cell_type": "code",
   "execution_count": 5,
   "id": "e6f47f70",
   "metadata": {},
   "outputs": [
    {
     "name": "stdout",
     "output_type": "stream",
     "text": [
      "Collecting wandb\n",
      "  Downloading wandb-0.12.21-py2.py3-none-any.whl (1.8 MB)\n",
      "\u001b[K     |████████████████████████████████| 1.8 MB 36.6 MB/s eta 0:00:01\n",
      "\u001b[?25hCollecting GitPython>=1.0.0\n",
      "  Downloading GitPython-3.1.27-py3-none-any.whl (181 kB)\n",
      "\u001b[K     |████████████████████████████████| 181 kB 112.1 MB/s eta 0:00:01\n",
      "\u001b[?25hCollecting shortuuid>=0.5.0\n",
      "  Downloading shortuuid-1.0.9-py3-none-any.whl (9.4 kB)\n",
      "Requirement already satisfied: setuptools in /opt/conda/lib/python3.8/site-packages (from wandb) (57.4.0)\n",
      "Requirement already satisfied: protobuf<4.0dev,>=3.12.0 in /opt/conda/lib/python3.8/site-packages (from wandb) (3.17.3)\n",
      "Requirement already satisfied: PyYAML in /opt/conda/lib/python3.8/site-packages (from wandb) (5.4.1)\n",
      "Requirement already satisfied: six>=1.13.0 in /opt/conda/lib/python3.8/site-packages (from wandb) (1.16.0)\n",
      "Collecting promise<3,>=2.0\n",
      "  Downloading promise-2.3.tar.gz (19 kB)\n",
      "Collecting setproctitle\n",
      "  Downloading setproctitle-1.2.3-cp38-cp38-manylinux_2_5_x86_64.manylinux1_x86_64.manylinux_2_17_x86_64.manylinux2014_x86_64.whl (29 kB)\n",
      "Requirement already satisfied: Click!=8.0.0,>=7.0 in /opt/conda/lib/python3.8/site-packages (from wandb) (7.1.2)\n",
      "Requirement already satisfied: requests<3,>=2.0.0 in /opt/conda/lib/python3.8/site-packages (from wandb) (2.26.0)\n",
      "Requirement already satisfied: psutil>=5.0.0 in /opt/conda/lib/python3.8/site-packages (from wandb) (5.8.0)\n",
      "Collecting docker-pycreds>=0.4.0\n",
      "  Downloading docker_pycreds-0.4.0-py2.py3-none-any.whl (9.0 kB)\n",
      "Collecting pathtools\n",
      "  Downloading pathtools-0.1.2.tar.gz (11 kB)\n",
      "Collecting sentry-sdk>=1.0.0\n",
      "  Downloading sentry_sdk-1.6.0-py2.py3-none-any.whl (145 kB)\n",
      "\u001b[K     |████████████████████████████████| 145 kB 100.3 MB/s eta 0:00:01\n",
      "\u001b[?25hCollecting gitdb<5,>=4.0.1\n",
      "  Downloading gitdb-4.0.9-py3-none-any.whl (63 kB)\n",
      "\u001b[K     |████████████████████████████████| 63 kB 2.5 MB/s s eta 0:00:01\n",
      "\u001b[?25hCollecting smmap<6,>=3.0.1\n",
      "  Downloading smmap-5.0.0-py3-none-any.whl (24 kB)\n",
      "Requirement already satisfied: idna<4,>=2.5 in /opt/conda/lib/python3.8/site-packages (from requests<3,>=2.0.0->wandb) (3.1)\n",
      "Requirement already satisfied: charset-normalizer~=2.0.0 in /opt/conda/lib/python3.8/site-packages (from requests<3,>=2.0.0->wandb) (2.0.0)\n",
      "Requirement already satisfied: certifi>=2017.4.17 in /opt/conda/lib/python3.8/site-packages (from requests<3,>=2.0.0->wandb) (2021.5.30)\n",
      "Requirement already satisfied: urllib3<1.27,>=1.21.1 in /opt/conda/lib/python3.8/site-packages (from requests<3,>=2.0.0->wandb) (1.26.6)\n",
      "Building wheels for collected packages: promise, pathtools\n",
      "  Building wheel for promise (setup.py) ... \u001b[?25ldone\n",
      "\u001b[?25h  Created wheel for promise: filename=promise-2.3-py3-none-any.whl size=21502 sha256=f1574edb9004fe2b0b71d0169fc181e94af9f8ea0376b19af38f33fe25d295a2\n",
      "  Stored in directory: /root/.cache/pip/wheels/54/aa/01/724885182f93150035a2a91bce34a12877e8067a97baaf5dc8\n",
      "  Building wheel for pathtools (setup.py) ... \u001b[?25ldone\n",
      "\u001b[?25h  Created wheel for pathtools: filename=pathtools-0.1.2-py3-none-any.whl size=8806 sha256=3c2cee771ef50498f4ca5b0276f19e6a829e00d681d9b7b9728a59dc1ed2a332\n",
      "  Stored in directory: /root/.cache/pip/wheels/4c/8e/7e/72fbc243e1aeecae64a96875432e70d4e92f3d2d18123be004\n",
      "Successfully built promise pathtools\n",
      "Installing collected packages: smmap, gitdb, shortuuid, setproctitle, sentry-sdk, promise, pathtools, GitPython, docker-pycreds, wandb\n",
      "Successfully installed GitPython-3.1.27 docker-pycreds-0.4.0 gitdb-4.0.9 pathtools-0.1.2 promise-2.3 sentry-sdk-1.6.0 setproctitle-1.2.3 shortuuid-1.0.9 smmap-5.0.0 wandb-0.12.21\n",
      "\u001b[33mWARNING: Running pip as the 'root' user can result in broken permissions and conflicting behaviour with the system package manager. It is recommended to use a virtual environment instead: https://pip.pypa.io/warnings/venv\u001b[0m\n"
     ]
    }
   ],
   "source": [
    "!pip install wandb"
   ]
  },
  {
   "cell_type": "code",
   "execution_count": 8,
   "id": "11f116f9",
   "metadata": {},
   "outputs": [
    {
     "name": "stderr",
     "output_type": "stream",
     "text": [
      "\u001b[34m\u001b[1mwandb\u001b[0m: \u001b[33mWARNING\u001b[0m Calling wandb.login() after wandb.init() has no effect.\n"
     ]
    },
    {
     "data": {
      "text/plain": [
       "True"
      ]
     },
     "execution_count": 8,
     "metadata": {},
     "output_type": "execute_result"
    }
   ],
   "source": [
    "import wandb\n",
    "wandb.login()"
   ]
  },
  {
   "cell_type": "code",
   "execution_count": 9,
   "id": "f4d5f3b3",
   "metadata": {
    "scrolled": true
   },
   "outputs": [
    {
     "data": {
      "text/html": [
       "Finishing last run (ID:1ylmnvfp) before initializing another..."
      ],
      "text/plain": [
       "<IPython.core.display.HTML object>"
      ]
     },
     "metadata": {},
     "output_type": "display_data"
    },
    {
     "data": {
      "text/html": [
       "Waiting for W&B process to finish... <strong style=\"color:green\">(success).</strong>"
      ],
      "text/plain": [
       "<IPython.core.display.HTML object>"
      ]
     },
     "metadata": {},
     "output_type": "display_data"
    },
    {
     "data": {
      "text/html": [
       "Synced <strong style=\"color:#cdcd00\">sleek-brook-1</strong>: <a href=\"https://wandb.ai/seankoval/w251_hw9/runs/1ylmnvfp\" target=\"_blank\">https://wandb.ai/seankoval/w251_hw9/runs/1ylmnvfp</a><br/>Synced 5 W&B file(s), 0 media file(s), 0 artifact file(s) and 0 other file(s)"
      ],
      "text/plain": [
       "<IPython.core.display.HTML object>"
      ]
     },
     "metadata": {},
     "output_type": "display_data"
    },
    {
     "data": {
      "text/html": [
       "Find logs at: <code>./wandb/run-20220706_024216-1ylmnvfp/logs</code>"
      ],
      "text/plain": [
       "<IPython.core.display.HTML object>"
      ]
     },
     "metadata": {},
     "output_type": "display_data"
    },
    {
     "data": {
      "text/html": [
       "Successfully finished last run (ID:1ylmnvfp). Initializing new run:<br/>"
      ],
      "text/plain": [
       "<IPython.core.display.HTML object>"
      ]
     },
     "metadata": {},
     "output_type": "display_data"
    },
    {
     "data": {
      "text/html": [
       "Tracking run with wandb version 0.12.21"
      ],
      "text/plain": [
       "<IPython.core.display.HTML object>"
      ]
     },
     "metadata": {},
     "output_type": "display_data"
    },
    {
     "data": {
      "text/html": [
       "Run data is saved locally in <code>/workspace/w251/wandb/run-20220706_024219-2b7olrn3</code>"
      ],
      "text/plain": [
       "<IPython.core.display.HTML object>"
      ]
     },
     "metadata": {},
     "output_type": "display_data"
    },
    {
     "data": {
      "text/html": [
       "Syncing run <strong><a href=\"https://wandb.ai/seankoval/w251_hw9/runs/2b7olrn3\" target=\"_blank\">stellar-night-2</a></strong> to <a href=\"https://wandb.ai/seankoval/w251_hw9\" target=\"_blank\">Weights & Biases</a> (<a href=\"https://wandb.me/run\" target=\"_blank\">docs</a>)<br/>"
      ],
      "text/plain": [
       "<IPython.core.display.HTML object>"
      ]
     },
     "metadata": {},
     "output_type": "display_data"
    },
    {
     "data": {
      "text/html": [
       "<button onClick=\"this.nextSibling.style.display='block';this.style.display='none';\">Display W&B run</button><iframe src=\"https://wandb.ai/seankoval/w251_hw9/runs/2b7olrn3?jupyter=true\" style=\"border:none;width:100%;height:420px;display:none;\"></iframe>"
      ],
      "text/plain": [
       "<wandb.sdk.wandb_run.Run at 0x7fae9de51760>"
      ]
     },
     "execution_count": 9,
     "metadata": {},
     "output_type": "execute_result"
    }
   ],
   "source": [
    "wandb.init(project=\"w251_hw9\", entity=\"seankoval\")"
   ]
  },
  {
   "cell_type": "code",
   "execution_count": 10,
   "id": "e7760385",
   "metadata": {},
   "outputs": [],
   "source": [
    "SEED=1\n",
    "\n",
    "random.seed(SEED)\n",
    "torch.manual_seed(SEED)\n",
    "cudnn.deterministic = True"
   ]
  },
  {
   "cell_type": "code",
   "execution_count": 11,
   "id": "ab6d3efd",
   "metadata": {},
   "outputs": [
    {
     "data": {
      "text/plain": [
       "1"
      ]
     },
     "execution_count": 11,
     "metadata": {},
     "output_type": "execute_result"
    }
   ],
   "source": [
    "torch.cuda.device_count()"
   ]
  },
  {
   "cell_type": "code",
   "execution_count": 12,
   "id": "ba19a43e",
   "metadata": {},
   "outputs": [],
   "source": [
    "START_EPOCH = 0"
   ]
  },
  {
   "cell_type": "code",
   "execution_count": 39,
   "id": "3e851deb",
   "metadata": {},
   "outputs": [],
   "source": [
    "ARCH = 'resnet18'\n",
    "EPOCHS = 2\n",
    "LR = 0.1\n",
    "MOMENTUM = 0.9\n",
    "WEIGHT_DECAY = 1e-4\n",
    "PRINT_FREQ = 10\n",
    "TRAIN_BATCH=500\n",
    "VAL_BATCH=500\n",
    "WORKERS=2\n",
    "TRAINDIR=\"/data/train\"\n",
    "VALDIR=\"/data/val\""
   ]
  },
  {
   "cell_type": "code",
   "execution_count": 40,
   "id": "d6c204e4",
   "metadata": {},
   "outputs": [],
   "source": [
    "if not torch.cuda.is_available():\n",
    "    print('GPU not detected.. did you pass through your GPU?')"
   ]
  },
  {
   "cell_type": "code",
   "execution_count": 41,
   "id": "060cbf27",
   "metadata": {},
   "outputs": [
    {
     "data": {
      "text/html": [
       "Finishing last run (ID:iacm0j2y) before initializing another..."
      ],
      "text/plain": [
       "<IPython.core.display.HTML object>"
      ]
     },
     "metadata": {},
     "output_type": "display_data"
    },
    {
     "data": {
      "text/html": [
       "Waiting for W&B process to finish... <strong style=\"color:green\">(success).</strong>"
      ],
      "text/plain": [
       "<IPython.core.display.HTML object>"
      ]
     },
     "metadata": {},
     "output_type": "display_data"
    },
    {
     "data": {
      "text/html": [
       "Synced <strong style=\"color:#cdcd00\">rare-glitter-1</strong>: <a href=\"https://wandb.ai/seankoval/uncategorized/runs/iacm0j2y\" target=\"_blank\">https://wandb.ai/seankoval/uncategorized/runs/iacm0j2y</a><br/>Synced 4 W&B file(s), 0 media file(s), 0 artifact file(s) and 0 other file(s)"
      ],
      "text/plain": [
       "<IPython.core.display.HTML object>"
      ]
     },
     "metadata": {},
     "output_type": "display_data"
    },
    {
     "data": {
      "text/html": [
       "Find logs at: <code>./wandb/run-20220706_024223-iacm0j2y/logs</code>"
      ],
      "text/plain": [
       "<IPython.core.display.HTML object>"
      ]
     },
     "metadata": {},
     "output_type": "display_data"
    },
    {
     "data": {
      "text/html": [
       "Successfully finished last run (ID:iacm0j2y). Initializing new run:<br/>"
      ],
      "text/plain": [
       "<IPython.core.display.HTML object>"
      ]
     },
     "metadata": {},
     "output_type": "display_data"
    },
    {
     "data": {
      "text/html": [
       "Tracking run with wandb version 0.12.21"
      ],
      "text/plain": [
       "<IPython.core.display.HTML object>"
      ]
     },
     "metadata": {},
     "output_type": "display_data"
    },
    {
     "data": {
      "text/html": [
       "Run data is saved locally in <code>/workspace/w251/wandb/run-20220706_024847-8ssm59gg</code>"
      ],
      "text/plain": [
       "<IPython.core.display.HTML object>"
      ]
     },
     "metadata": {},
     "output_type": "display_data"
    },
    {
     "data": {
      "text/html": [
       "Syncing run <strong><a href=\"https://wandb.ai/seankoval/uncategorized/runs/8ssm59gg\" target=\"_blank\">effortless-bird-2</a></strong> to <a href=\"https://wandb.ai/seankoval/uncategorized\" target=\"_blank\">Weights & Biases</a> (<a href=\"https://wandb.me/run\" target=\"_blank\">docs</a>)<br/>"
      ],
      "text/plain": [
       "<IPython.core.display.HTML object>"
      ]
     },
     "metadata": {},
     "output_type": "display_data"
    },
    {
     "data": {
      "text/html": [
       "<button onClick=\"this.nextSibling.style.display='block';this.style.display='none';\">Display W&B run</button><iframe src=\"https://wandb.ai/seankoval/uncategorized/runs/8ssm59gg?jupyter=true\" style=\"border:none;width:100%;height:420px;display:none;\"></iframe>"
      ],
      "text/plain": [
       "<wandb.sdk.wandb_run.Run at 0x7fae9de84160>"
      ]
     },
     "execution_count": 41,
     "metadata": {},
     "output_type": "execute_result"
    }
   ],
   "source": [
    "wandb.init(config={\"epochs\": EPOCHS, \"batch_size\": TRAIN_BATCH, \"momentum\": MOMENTUM, \"WEIGHT_DECAY\": WEIGHT_DECAY, \"arch\": ARCH})"
   ]
  },
  {
   "cell_type": "code",
   "execution_count": 42,
   "id": "4d53d837",
   "metadata": {},
   "outputs": [],
   "source": [
    "GPU = 0"
   ]
  },
  {
   "cell_type": "code",
   "execution_count": 43,
   "id": "a420a3af",
   "metadata": {},
   "outputs": [],
   "source": [
    "torch.cuda.set_device(GPU)"
   ]
  },
  {
   "cell_type": "code",
   "execution_count": 44,
   "id": "302f1bfe",
   "metadata": {},
   "outputs": [],
   "source": [
    "global_step = 1"
   ]
  },
  {
   "cell_type": "code",
   "execution_count": 45,
   "id": "093b91ff",
   "metadata": {},
   "outputs": [],
   "source": [
    "def train(train_loader, model, criterion, optimizer, epoch):\n",
    "    global global_step    \n",
    "    batch_time = AverageMeter('Time', ':6.3f')\n",
    "    data_time = AverageMeter('Data', ':6.3f')\n",
    "    losses = AverageMeter('Loss', ':.4e')\n",
    "    top1 = AverageMeter('Acc@1', ':6.2f')\n",
    "    top5 = AverageMeter('Acc@5', ':6.2f')\n",
    "    progress = ProgressMeter(\n",
    "        len(train_loader),\n",
    "        [batch_time, data_time, losses, top1, top5],\n",
    "        prefix=\"Epoch: [{}]\".format(epoch))\n",
    "\n",
    "    # Grad Scaler\n",
    "    scaler = GradScaler()\n",
    "    # switch to train mode\n",
    "    model.train()\n",
    "\n",
    "    end = time.time()\n",
    "    for i, (images, target) in enumerate(train_loader):\n",
    "        # measure data loading time\n",
    "        data_time.update(time.time() - end)\n",
    "        optimizer.zero_grad()\n",
    "\n",
    "        if GPU is not None:\n",
    "            images = images.cuda(GPU, non_blocking=True)\n",
    "        if torch.cuda.is_available():\n",
    "            target = target.cuda(GPU, non_blocking=True)\n",
    "\n",
    "        # compute output\n",
    "        with autocast():\n",
    "          output = model(images)\n",
    "          loss = criterion(output, target)\n",
    "\n",
    "        # measure accuracy and record loss\n",
    "        acc1, acc5 = accuracy(output, target, topk=(1, 5))\n",
    "        losses.update(loss.item(), images.size(0))\n",
    "        top1.update(acc1[0], images.size(0))\n",
    "        top5.update(acc5[0], images.size(0))\n",
    "\n",
    "        # compute gradient and do SGD step\n",
    "        # optimizer.zero_grad()\n",
    "        # loss.backward()\n",
    "        # optimizer.step()\n",
    "        \n",
    "        # use the scaler\n",
    "        scaler.scale(loss).backward()\n",
    "        scaler.step(optimizer)\n",
    "        scaler.update()\n",
    "\n",
    "        # measure elapsed time\n",
    "        batch_time.update(time.time() - end)\n",
    "        end = time.time()\n",
    "        \n",
    "        writer.add_scalar(\"Loss/train\", loss, global_step = global_step)\n",
    "        writer.add_scalar(\"acc1/train\", top1.avg, global_step = global_step)\n",
    "        writer.add_scalar(\"acc5/train\", top5.avg, global_step = global_step)\n",
    "        \n",
    "        wandb.log({\"Loss/train\": loss, 'acc1/train': top1.avg, 'acc5/train': top5.avg})\n",
    "        \n",
    "        global_step = global_step + 1\n",
    "\n",
    "        if i % PRINT_FREQ == 0:\n",
    "            progress.display(i)"
   ]
  },
  {
   "cell_type": "code",
   "execution_count": 46,
   "id": "d73e0a6c",
   "metadata": {},
   "outputs": [],
   "source": [
    "def validate(val_loader, model, criterion):\n",
    "    global global_step    \n",
    "    batch_time = AverageMeter('Time', ':6.3f')\n",
    "    losses = AverageMeter('Loss', ':.4e')\n",
    "    top1 = AverageMeter('Acc@1', ':6.2f')\n",
    "    top5 = AverageMeter('Acc@5', ':6.2f')\n",
    "    progress = ProgressMeter(\n",
    "        len(val_loader),\n",
    "        [batch_time, losses, top1, top5],\n",
    "        prefix='Test: ')\n",
    "\n",
    "    # switch to evaluate mode\n",
    "    model.eval()\n",
    "\n",
    "    with torch.no_grad():\n",
    "        end = time.time()\n",
    "        for i, (images, target) in enumerate(val_loader):\n",
    "            if GPU is not None:\n",
    "                images = images.cuda(GPU, non_blocking=True)\n",
    "            if torch.cuda.is_available():\n",
    "                target = target.cuda(GPU, non_blocking=True)\n",
    "\n",
    "            # compute output\n",
    "            output = model(images)\n",
    "            loss = criterion(output, target)\n",
    "\n",
    "            # measure accuracy and record loss\n",
    "            acc1, acc5 = accuracy(output, target, topk=(1, 5))\n",
    "            losses.update(loss.item(), images.size(0))\n",
    "            top1.update(acc1[0], images.size(0))\n",
    "            top5.update(acc5[0], images.size(0))\n",
    "\n",
    "            # measure elapsed time\n",
    "            batch_time.update(time.time() - end)\n",
    "            end = time.time()\n",
    "\n",
    "            if i % PRINT_FREQ == 0:\n",
    "                progress.display(i)\n",
    "\n",
    "        # TODO: this should also be done with the ProgressMeter\n",
    "        print(' * Acc@1 {top1.avg:.3f} Acc@5 {top5.avg:.3f}'\n",
    "              .format(top1=top1, top5=top5))\n",
    "    writer.add_scalar(\"Loss/val\", losses.avg, global_step = global_step)\n",
    "    writer.add_scalar(\"acc1/val\", top1.avg, global_step = global_step)\n",
    "    writer.add_scalar(\"acc5/val\", top5.avg, global_step = global_step)    \n",
    "    \n",
    "    wandb.log({\"Loss/val\": losses.avg, 'acc1/val': top1.avg, 'acc5/val': top5.avg})\n",
    "    \n",
    "    global_step = global_step + 1\n",
    "\n",
    "    return top1.avg"
   ]
  },
  {
   "cell_type": "code",
   "execution_count": 47,
   "id": "2e7e346d",
   "metadata": {},
   "outputs": [],
   "source": [
    "def save_checkpoint(state, is_best, filename='checkpoint.pth.tar'):\n",
    "    torch.save(state, filename)\n",
    "    if is_best:\n",
    "        shutil.copyfile(filename, 'model_best.pth.tar')"
   ]
  },
  {
   "cell_type": "code",
   "execution_count": 48,
   "id": "3b57464f",
   "metadata": {},
   "outputs": [],
   "source": [
    "class AverageMeter(object):\n",
    "    \"\"\"Computes and stores the average and current value\"\"\"\n",
    "    def __init__(self, name, fmt=':f'):\n",
    "        self.name = name\n",
    "        self.fmt = fmt\n",
    "        self.reset()\n",
    "\n",
    "    def reset(self):\n",
    "        self.val = 0\n",
    "        self.avg = 0\n",
    "        self.sum = 0\n",
    "        self.count = 0\n",
    "\n",
    "    def update(self, val, n=1):\n",
    "        self.val = val\n",
    "        self.sum += val * n\n",
    "        self.count += n\n",
    "        self.avg = self.sum / self.count\n",
    "\n",
    "    def __str__(self):\n",
    "        fmtstr = '{name} {val' + self.fmt + '} ({avg' + self.fmt + '})'\n",
    "        return fmtstr.format(**self.__dict__)"
   ]
  },
  {
   "cell_type": "code",
   "execution_count": 49,
   "id": "f4bfa474",
   "metadata": {},
   "outputs": [],
   "source": [
    "class ProgressMeter(object):\n",
    "    def __init__(self, num_batches, meters, prefix=\"\"):\n",
    "        self.batch_fmtstr = self._get_batch_fmtstr(num_batches)\n",
    "        self.meters = meters\n",
    "        self.prefix = prefix\n",
    "\n",
    "    def display(self, batch):\n",
    "        entries = [self.prefix + self.batch_fmtstr.format(batch)]\n",
    "        entries += [str(meter) for meter in self.meters]\n",
    "        print('\\t'.join(entries))\n",
    "\n",
    "    def _get_batch_fmtstr(self, num_batches):\n",
    "        num_digits = len(str(num_batches // 1))\n",
    "        fmt = '{:' + str(num_digits) + 'd}'\n",
    "        return '[' + fmt + '/' + fmt.format(num_batches) + ']'"
   ]
  },
  {
   "cell_type": "code",
   "execution_count": 50,
   "id": "00a327e9",
   "metadata": {},
   "outputs": [],
   "source": [
    "def adjust_learning_rate(optimizer, epoch):\n",
    "    \"\"\"Sets the learning rate to the initial LR decayed by 10 every 30 epochs\"\"\"\n",
    "    lr = LR * (0.1 ** (epoch // 30))\n",
    "    for param_group in optimizer.param_groups:\n",
    "        param_group['lr'] = lr"
   ]
  },
  {
   "cell_type": "code",
   "execution_count": 51,
   "id": "2d69f480",
   "metadata": {},
   "outputs": [],
   "source": [
    "def accuracy(output, target, topk=(1,)):\n",
    "    \"\"\"Computes the accuracy over the k top predictions for the specified values of k\"\"\"\n",
    "    with torch.no_grad():\n",
    "        maxk = max(topk)\n",
    "        batch_size = target.size(0)\n",
    "\n",
    "        _, pred = output.topk(maxk, 1, True, True)\n",
    "        pred = pred.t()\n",
    "        correct = pred.eq(target.view(1, -1).expand_as(pred))\n",
    "\n",
    "        res = []\n",
    "        for k in topk:\n",
    "            correct_k = correct[:k].reshape(-1).float().sum(0, keepdim=True)\n",
    "            res.append(correct_k.mul_(100.0 / batch_size))\n",
    "        return res"
   ]
  },
  {
   "cell_type": "code",
   "execution_count": 52,
   "id": "905e1d13",
   "metadata": {},
   "outputs": [],
   "source": [
    "cudnn.benchmark = True"
   ]
  },
  {
   "cell_type": "code",
   "execution_count": 53,
   "id": "0ff608d7",
   "metadata": {},
   "outputs": [],
   "source": [
    "imagenet_mean_RGB = [0.47889522, 0.47227842, 0.43047404]\n",
    "imagenet_std_RGB = [0.229, 0.224, 0.225]"
   ]
  },
  {
   "cell_type": "code",
   "execution_count": 54,
   "id": "c0b181d6",
   "metadata": {},
   "outputs": [],
   "source": [
    "normalize = transforms.Normalize(mean=imagenet_mean_RGB, std=imagenet_std_RGB)"
   ]
  },
  {
   "cell_type": "code",
   "execution_count": 55,
   "id": "933208ed",
   "metadata": {},
   "outputs": [],
   "source": [
    "IMG_SIZE = 224\n",
    "NUM_CLASSES = 1000"
   ]
  },
  {
   "cell_type": "code",
   "execution_count": 56,
   "id": "085981d0",
   "metadata": {},
   "outputs": [],
   "source": [
    "model = models.__dict__[ARCH]()"
   ]
  },
  {
   "cell_type": "code",
   "execution_count": 57,
   "id": "80bf47db",
   "metadata": {},
   "outputs": [],
   "source": [
    "inf = model.fc.in_features"
   ]
  },
  {
   "cell_type": "code",
   "execution_count": 58,
   "id": "41adc684",
   "metadata": {},
   "outputs": [],
   "source": [
    "model.fc = nn.Linear(inf, NUM_CLASSES)"
   ]
  },
  {
   "cell_type": "code",
   "execution_count": 59,
   "id": "e1c19823",
   "metadata": {},
   "outputs": [
    {
     "data": {
      "text/plain": [
       "ResNet(\n",
       "  (conv1): Conv2d(3, 64, kernel_size=(7, 7), stride=(2, 2), padding=(3, 3), bias=False)\n",
       "  (bn1): BatchNorm2d(64, eps=1e-05, momentum=0.1, affine=True, track_running_stats=True)\n",
       "  (relu): ReLU(inplace=True)\n",
       "  (maxpool): MaxPool2d(kernel_size=3, stride=2, padding=1, dilation=1, ceil_mode=False)\n",
       "  (layer1): Sequential(\n",
       "    (0): BasicBlock(\n",
       "      (conv1): Conv2d(64, 64, kernel_size=(3, 3), stride=(1, 1), padding=(1, 1), bias=False)\n",
       "      (bn1): BatchNorm2d(64, eps=1e-05, momentum=0.1, affine=True, track_running_stats=True)\n",
       "      (relu): ReLU(inplace=True)\n",
       "      (conv2): Conv2d(64, 64, kernel_size=(3, 3), stride=(1, 1), padding=(1, 1), bias=False)\n",
       "      (bn2): BatchNorm2d(64, eps=1e-05, momentum=0.1, affine=True, track_running_stats=True)\n",
       "    )\n",
       "    (1): BasicBlock(\n",
       "      (conv1): Conv2d(64, 64, kernel_size=(3, 3), stride=(1, 1), padding=(1, 1), bias=False)\n",
       "      (bn1): BatchNorm2d(64, eps=1e-05, momentum=0.1, affine=True, track_running_stats=True)\n",
       "      (relu): ReLU(inplace=True)\n",
       "      (conv2): Conv2d(64, 64, kernel_size=(3, 3), stride=(1, 1), padding=(1, 1), bias=False)\n",
       "      (bn2): BatchNorm2d(64, eps=1e-05, momentum=0.1, affine=True, track_running_stats=True)\n",
       "    )\n",
       "  )\n",
       "  (layer2): Sequential(\n",
       "    (0): BasicBlock(\n",
       "      (conv1): Conv2d(64, 128, kernel_size=(3, 3), stride=(2, 2), padding=(1, 1), bias=False)\n",
       "      (bn1): BatchNorm2d(128, eps=1e-05, momentum=0.1, affine=True, track_running_stats=True)\n",
       "      (relu): ReLU(inplace=True)\n",
       "      (conv2): Conv2d(128, 128, kernel_size=(3, 3), stride=(1, 1), padding=(1, 1), bias=False)\n",
       "      (bn2): BatchNorm2d(128, eps=1e-05, momentum=0.1, affine=True, track_running_stats=True)\n",
       "      (downsample): Sequential(\n",
       "        (0): Conv2d(64, 128, kernel_size=(1, 1), stride=(2, 2), bias=False)\n",
       "        (1): BatchNorm2d(128, eps=1e-05, momentum=0.1, affine=True, track_running_stats=True)\n",
       "      )\n",
       "    )\n",
       "    (1): BasicBlock(\n",
       "      (conv1): Conv2d(128, 128, kernel_size=(3, 3), stride=(1, 1), padding=(1, 1), bias=False)\n",
       "      (bn1): BatchNorm2d(128, eps=1e-05, momentum=0.1, affine=True, track_running_stats=True)\n",
       "      (relu): ReLU(inplace=True)\n",
       "      (conv2): Conv2d(128, 128, kernel_size=(3, 3), stride=(1, 1), padding=(1, 1), bias=False)\n",
       "      (bn2): BatchNorm2d(128, eps=1e-05, momentum=0.1, affine=True, track_running_stats=True)\n",
       "    )\n",
       "  )\n",
       "  (layer3): Sequential(\n",
       "    (0): BasicBlock(\n",
       "      (conv1): Conv2d(128, 256, kernel_size=(3, 3), stride=(2, 2), padding=(1, 1), bias=False)\n",
       "      (bn1): BatchNorm2d(256, eps=1e-05, momentum=0.1, affine=True, track_running_stats=True)\n",
       "      (relu): ReLU(inplace=True)\n",
       "      (conv2): Conv2d(256, 256, kernel_size=(3, 3), stride=(1, 1), padding=(1, 1), bias=False)\n",
       "      (bn2): BatchNorm2d(256, eps=1e-05, momentum=0.1, affine=True, track_running_stats=True)\n",
       "      (downsample): Sequential(\n",
       "        (0): Conv2d(128, 256, kernel_size=(1, 1), stride=(2, 2), bias=False)\n",
       "        (1): BatchNorm2d(256, eps=1e-05, momentum=0.1, affine=True, track_running_stats=True)\n",
       "      )\n",
       "    )\n",
       "    (1): BasicBlock(\n",
       "      (conv1): Conv2d(256, 256, kernel_size=(3, 3), stride=(1, 1), padding=(1, 1), bias=False)\n",
       "      (bn1): BatchNorm2d(256, eps=1e-05, momentum=0.1, affine=True, track_running_stats=True)\n",
       "      (relu): ReLU(inplace=True)\n",
       "      (conv2): Conv2d(256, 256, kernel_size=(3, 3), stride=(1, 1), padding=(1, 1), bias=False)\n",
       "      (bn2): BatchNorm2d(256, eps=1e-05, momentum=0.1, affine=True, track_running_stats=True)\n",
       "    )\n",
       "  )\n",
       "  (layer4): Sequential(\n",
       "    (0): BasicBlock(\n",
       "      (conv1): Conv2d(256, 512, kernel_size=(3, 3), stride=(2, 2), padding=(1, 1), bias=False)\n",
       "      (bn1): BatchNorm2d(512, eps=1e-05, momentum=0.1, affine=True, track_running_stats=True)\n",
       "      (relu): ReLU(inplace=True)\n",
       "      (conv2): Conv2d(512, 512, kernel_size=(3, 3), stride=(1, 1), padding=(1, 1), bias=False)\n",
       "      (bn2): BatchNorm2d(512, eps=1e-05, momentum=0.1, affine=True, track_running_stats=True)\n",
       "      (downsample): Sequential(\n",
       "        (0): Conv2d(256, 512, kernel_size=(1, 1), stride=(2, 2), bias=False)\n",
       "        (1): BatchNorm2d(512, eps=1e-05, momentum=0.1, affine=True, track_running_stats=True)\n",
       "      )\n",
       "    )\n",
       "    (1): BasicBlock(\n",
       "      (conv1): Conv2d(512, 512, kernel_size=(3, 3), stride=(1, 1), padding=(1, 1), bias=False)\n",
       "      (bn1): BatchNorm2d(512, eps=1e-05, momentum=0.1, affine=True, track_running_stats=True)\n",
       "      (relu): ReLU(inplace=True)\n",
       "      (conv2): Conv2d(512, 512, kernel_size=(3, 3), stride=(1, 1), padding=(1, 1), bias=False)\n",
       "      (bn2): BatchNorm2d(512, eps=1e-05, momentum=0.1, affine=True, track_running_stats=True)\n",
       "    )\n",
       "  )\n",
       "  (avgpool): AdaptiveAvgPool2d(output_size=(1, 1))\n",
       "  (fc): Linear(in_features=512, out_features=1000, bias=True)\n",
       ")"
      ]
     },
     "execution_count": 59,
     "metadata": {},
     "output_type": "execute_result"
    }
   ],
   "source": [
    "model.cuda(GPU)"
   ]
  },
  {
   "cell_type": "code",
   "execution_count": 60,
   "id": "371fd3dc",
   "metadata": {},
   "outputs": [],
   "source": [
    "criterion = nn.CrossEntropyLoss().cuda(GPU)"
   ]
  },
  {
   "cell_type": "code",
   "execution_count": 61,
   "id": "ed2a7e1c",
   "metadata": {},
   "outputs": [],
   "source": [
    "optimizer = torch.optim.SGD(model.parameters(), LR,\n",
    "                                momentum=MOMENTUM,\n",
    "                                weight_decay=WEIGHT_DECAY)"
   ]
  },
  {
   "cell_type": "code",
   "execution_count": 62,
   "id": "50a4fe52",
   "metadata": {},
   "outputs": [],
   "source": [
    "scheduler = torch.optim.lr_scheduler.CosineAnnealingLR(optimizer, T_max=EPOCHS)"
   ]
  },
  {
   "cell_type": "code",
   "execution_count": 63,
   "id": "58425a18",
   "metadata": {},
   "outputs": [],
   "source": [
    "transform_train = transforms.Compose([\n",
    "    transforms.Resize((256,256)),\n",
    "    transforms.RandomCrop(IMG_SIZE, padding=4),\n",
    "    transforms.RandomHorizontalFlip(),\n",
    "    transforms.ToTensor(),\n",
    "    transforms.Normalize(imagenet_mean_RGB, imagenet_std_RGB),\n",
    "])"
   ]
  },
  {
   "cell_type": "code",
   "execution_count": 64,
   "id": "2c5cad28",
   "metadata": {},
   "outputs": [],
   "source": [
    "train_dataset = datasets.ImageFolder(\n",
    "    TRAINDIR, transform=transform_train)"
   ]
  },
  {
   "cell_type": "code",
   "execution_count": 65,
   "id": "d934e9b4",
   "metadata": {},
   "outputs": [],
   "source": [
    "transform_val = transforms.Compose([\n",
    "    transforms.Resize((256,256)),\n",
    "    transforms.RandomCrop(IMG_SIZE, padding=4),\n",
    "    transforms.ToTensor(),\n",
    "    transforms.Normalize(imagenet_mean_RGB, imagenet_std_RGB),\n",
    "])"
   ]
  },
  {
   "cell_type": "code",
   "execution_count": 66,
   "id": "2259a76a",
   "metadata": {},
   "outputs": [],
   "source": [
    "val_dataset = datasets.ImageFolder(\n",
    "    VALDIR, transform=transform_val)"
   ]
  },
  {
   "cell_type": "code",
   "execution_count": 67,
   "id": "a07e68e2",
   "metadata": {},
   "outputs": [],
   "source": [
    "train_loader = torch.utils.data.DataLoader(\n",
    "        train_dataset, batch_size=TRAIN_BATCH, shuffle=True,\n",
    "        num_workers=WORKERS, pin_memory=True, sampler=None)"
   ]
  },
  {
   "cell_type": "code",
   "execution_count": 68,
   "id": "853e9c82",
   "metadata": {},
   "outputs": [],
   "source": [
    "val_loader = torch.utils.data.DataLoader(\n",
    "        val_dataset, batch_size=VAL_BATCH, shuffle=False,\n",
    "        num_workers=WORKERS, pin_memory=True, sampler=None)"
   ]
  },
  {
   "cell_type": "code",
   "execution_count": 69,
   "id": "0ea37c2b",
   "metadata": {},
   "outputs": [],
   "source": [
    "best_acc1 = 0"
   ]
  },
  {
   "cell_type": "code",
   "execution_count": null,
   "id": "0c8c811d",
   "metadata": {},
   "outputs": [
    {
     "name": "stdout",
     "output_type": "stream",
     "text": [
      "Epoch: [0][   0/2563]\tTime 23.370 (23.370)\tData  4.879 ( 4.879)\tLoss 6.9980e+00 (6.9980e+00)\tAcc@1   0.00 (  0.00)\tAcc@5   0.60 (  0.60)\n",
      "Epoch: [0][  10/2563]\tTime  0.761 ( 3.328)\tData  0.107 ( 1.039)\tLoss 6.9721e+00 (6.9959e+00)\tAcc@1   0.20 (  0.22)\tAcc@5   0.40 (  0.78)\n",
      "Epoch: [0][  20/2563]\tTime  0.933 ( 2.639)\tData  0.280 ( 1.115)\tLoss 6.9508e+00 (6.9957e+00)\tAcc@1   0.00 (  0.22)\tAcc@5   1.40 (  0.94)\n",
      "Epoch: [0][  30/2563]\tTime  1.094 ( 2.415)\tData  0.436 ( 1.162)\tLoss 6.9579e+00 (6.9885e+00)\tAcc@1   0.20 (  0.27)\tAcc@5   0.80 (  0.99)\n",
      "Epoch: [0][  40/2563]\tTime  1.204 ( 2.290)\tData  0.551 ( 1.177)\tLoss 6.8238e+00 (6.9639e+00)\tAcc@1   0.80 (  0.31)\tAcc@5   1.80 (  1.11)\n",
      "Epoch: [0][  50/2563]\tTime  1.907 ( 2.235)\tData  1.251 ( 1.210)\tLoss 6.7711e+00 (6.9340e+00)\tAcc@1   0.60 (  0.31)\tAcc@5   2.00 (  1.22)\n",
      "Epoch: [0][  60/2563]\tTime  2.248 ( 2.183)\tData  1.588 ( 1.218)\tLoss 6.6702e+00 (6.8987e+00)\tAcc@1   0.80 (  0.36)\tAcc@5   2.20 (  1.39)\n",
      "Epoch: [0][  70/2563]\tTime  2.981 ( 2.160)\tData  2.279 ( 1.235)\tLoss 6.6907e+00 (6.8655e+00)\tAcc@1   0.80 (  0.43)\tAcc@5   3.20 (  1.65)\n",
      "Epoch: [0][  80/2563]\tTime  3.617 ( 2.131)\tData  2.893 ( 1.235)\tLoss 6.5782e+00 (6.8352e+00)\tAcc@1   0.40 (  0.46)\tAcc@5   2.00 (  1.78)\n",
      "Epoch: [0][  90/2563]\tTime  2.976 ( 2.102)\tData  2.256 ( 1.229)\tLoss 6.5794e+00 (6.8062e+00)\tAcc@1   0.60 (  0.51)\tAcc@5   4.40 (  1.95)\n",
      "Epoch: [0][ 100/2563]\tTime  3.010 ( 2.073)\tData  2.299 ( 1.219)\tLoss 6.5405e+00 (6.7808e+00)\tAcc@1   0.40 (  0.53)\tAcc@5   2.80 (  2.09)\n",
      "Epoch: [0][ 110/2563]\tTime  2.999 ( 2.060)\tData  2.297 ( 1.221)\tLoss 6.4133e+00 (6.7543e+00)\tAcc@1   1.40 (  0.58)\tAcc@5   3.80 (  2.24)\n",
      "Epoch: [0][ 120/2563]\tTime  3.192 ( 2.045)\tData  2.471 ( 1.219)\tLoss 6.4940e+00 (6.7325e+00)\tAcc@1   1.20 (  0.63)\tAcc@5   4.20 (  2.37)\n",
      "Epoch: [0][ 130/2563]\tTime  4.358 ( 2.041)\tData  3.648 ( 1.224)\tLoss 6.4221e+00 (6.7061e+00)\tAcc@1   1.00 (  0.67)\tAcc@5   3.80 (  2.56)\n",
      "Epoch: [0][ 140/2563]\tTime  3.078 ( 2.029)\tData  2.342 ( 1.220)\tLoss 6.4389e+00 (6.6863e+00)\tAcc@1   0.80 (  0.69)\tAcc@5   4.40 (  2.68)\n",
      "Epoch: [0][ 150/2563]\tTime  3.022 ( 2.024)\tData  2.318 ( 1.224)\tLoss 6.2614e+00 (6.6646e+00)\tAcc@1   1.00 (  0.72)\tAcc@5   5.00 (  2.79)\n",
      "Epoch: [0][ 160/2563]\tTime  2.856 ( 2.009)\tData  2.130 ( 1.215)\tLoss 6.4003e+00 (6.6432e+00)\tAcc@1   1.60 (  0.75)\tAcc@5   5.40 (  2.94)\n",
      "Epoch: [0][ 170/2563]\tTime  3.050 ( 2.003)\tData  2.338 ( 1.216)\tLoss 6.3319e+00 (6.6229e+00)\tAcc@1   0.80 (  0.78)\tAcc@5   4.60 (  3.08)\n",
      "Epoch: [0][ 180/2563]\tTime  2.882 ( 1.996)\tData  2.147 ( 1.213)\tLoss 6.2256e+00 (6.6035e+00)\tAcc@1   3.00 (  0.83)\tAcc@5   6.40 (  3.23)\n",
      "Epoch: [0][ 190/2563]\tTime  3.065 ( 1.986)\tData  2.358 ( 1.208)\tLoss 6.1775e+00 (6.5822e+00)\tAcc@1   0.80 (  0.86)\tAcc@5   6.60 (  3.38)\n",
      "Epoch: [0][ 200/2563]\tTime  2.883 ( 1.988)\tData  2.169 ( 1.214)\tLoss 6.1125e+00 (6.5612e+00)\tAcc@1   1.80 (  0.91)\tAcc@5   6.00 (  3.54)\n",
      "Epoch: [0][ 210/2563]\tTime  2.988 ( 1.979)\tData  2.264 ( 1.209)\tLoss 6.1163e+00 (6.5402e+00)\tAcc@1   2.00 (  0.97)\tAcc@5   7.40 (  3.72)\n",
      "Epoch: [0][ 220/2563]\tTime  3.228 ( 1.974)\tData  2.513 ( 1.207)\tLoss 6.1306e+00 (6.5195e+00)\tAcc@1   1.00 (  1.00)\tAcc@5   5.80 (  3.87)\n",
      "Epoch: [0][ 230/2563]\tTime  2.931 ( 1.969)\tData  2.223 ( 1.205)\tLoss 6.0880e+00 (6.5001e+00)\tAcc@1   1.40 (  1.04)\tAcc@5   8.00 (  4.04)\n",
      "Epoch: [0][ 240/2563]\tTime  3.158 ( 1.969)\tData  2.429 ( 1.209)\tLoss 6.0503e+00 (6.4795e+00)\tAcc@1   2.80 (  1.09)\tAcc@5   8.80 (  4.18)\n",
      "Epoch: [0][ 250/2563]\tTime  2.920 ( 1.963)\tData  2.200 ( 1.205)\tLoss 5.9663e+00 (6.4597e+00)\tAcc@1   2.40 (  1.14)\tAcc@5   7.80 (  4.35)\n",
      "Epoch: [0][ 260/2563]\tTime  2.899 ( 1.960)\tData  2.164 ( 1.204)\tLoss 5.8333e+00 (6.4401e+00)\tAcc@1   1.40 (  1.19)\tAcc@5   8.80 (  4.52)\n",
      "Epoch: [0][ 270/2563]\tTime  2.971 ( 1.963)\tData  2.255 ( 1.209)\tLoss 5.8833e+00 (6.4199e+00)\tAcc@1   4.00 (  1.26)\tAcc@5   9.40 (  4.69)\n",
      "Epoch: [0][ 280/2563]\tTime  3.061 ( 1.960)\tData  2.352 ( 1.208)\tLoss 5.9418e+00 (6.4004e+00)\tAcc@1   2.60 (  1.32)\tAcc@5   8.40 (  4.86)\n",
      "Epoch: [0][ 290/2563]\tTime  2.999 ( 1.960)\tData  2.290 ( 1.211)\tLoss 5.7508e+00 (6.3818e+00)\tAcc@1   3.00 (  1.37)\tAcc@5  11.40 (  5.03)\n",
      "Epoch: [0][ 300/2563]\tTime  3.185 ( 1.958)\tData  2.468 ( 1.210)\tLoss 5.7987e+00 (6.3634e+00)\tAcc@1   3.20 (  1.42)\tAcc@5  11.60 (  5.20)\n",
      "Epoch: [0][ 310/2563]\tTime  3.348 ( 1.955)\tData  2.625 ( 1.209)\tLoss 5.7668e+00 (6.3462e+00)\tAcc@1   3.00 (  1.48)\tAcc@5  10.00 (  5.36)\n",
      "Epoch: [0][ 320/2563]\tTime  3.001 ( 1.954)\tData  2.298 ( 1.210)\tLoss 5.7611e+00 (6.3277e+00)\tAcc@1   2.40 (  1.54)\tAcc@5   9.40 (  5.53)\n",
      "Epoch: [0][ 330/2563]\tTime  3.099 ( 1.951)\tData  2.373 ( 1.208)\tLoss 5.7535e+00 (6.3101e+00)\tAcc@1   3.80 (  1.58)\tAcc@5  11.20 (  5.68)\n",
      "Epoch: [0][ 340/2563]\tTime  3.165 ( 1.952)\tData  2.449 ( 1.210)\tLoss 5.6965e+00 (6.2927e+00)\tAcc@1   3.00 (  1.63)\tAcc@5  11.80 (  5.82)\n",
      "Epoch: [0][ 350/2563]\tTime  3.156 ( 1.949)\tData  2.450 ( 1.209)\tLoss 5.6745e+00 (6.2767e+00)\tAcc@1   3.80 (  1.68)\tAcc@5  13.80 (  5.98)\n",
      "Epoch: [0][ 360/2563]\tTime  3.220 ( 1.946)\tData  2.492 ( 1.207)\tLoss 5.6595e+00 (6.2600e+00)\tAcc@1   3.80 (  1.74)\tAcc@5  11.60 (  6.18)\n",
      "Epoch: [0][ 370/2563]\tTime  2.911 ( 1.948)\tData  2.205 ( 1.211)\tLoss 5.6217e+00 (6.2435e+00)\tAcc@1   3.00 (  1.79)\tAcc@5  11.80 (  6.34)\n",
      "Epoch: [0][ 380/2563]\tTime  2.972 ( 1.945)\tData  2.257 ( 1.209)\tLoss 5.4956e+00 (6.2265e+00)\tAcc@1   6.40 (  1.87)\tAcc@5  15.00 (  6.53)\n",
      "Epoch: [0][ 390/2563]\tTime  2.818 ( 1.942)\tData  2.117 ( 1.207)\tLoss 5.6850e+00 (6.2110e+00)\tAcc@1   5.20 (  1.92)\tAcc@5  14.00 (  6.68)\n",
      "Epoch: [0][ 400/2563]\tTime  3.017 ( 1.940)\tData  2.283 ( 1.206)\tLoss 5.5786e+00 (6.1946e+00)\tAcc@1   3.00 (  1.98)\tAcc@5  11.00 (  6.86)\n",
      "Epoch: [0][ 410/2563]\tTime  2.928 ( 1.937)\tData  2.209 ( 1.204)\tLoss 5.4758e+00 (6.1782e+00)\tAcc@1   4.00 (  2.04)\tAcc@5  12.60 (  7.04)\n",
      "Epoch: [0][ 420/2563]\tTime  2.939 ( 1.937)\tData  2.210 ( 1.205)\tLoss 5.4144e+00 (6.1615e+00)\tAcc@1   5.60 (  2.10)\tAcc@5  16.40 (  7.21)\n",
      "Epoch: [0][ 430/2563]\tTime  3.120 ( 1.935)\tData  2.388 ( 1.204)\tLoss 5.3559e+00 (6.1459e+00)\tAcc@1   3.80 (  2.16)\tAcc@5  16.20 (  7.39)\n",
      "Epoch: [0][ 440/2563]\tTime  4.101 ( 1.935)\tData  3.398 ( 1.205)\tLoss 5.4571e+00 (6.1297e+00)\tAcc@1   7.00 (  2.24)\tAcc@5  16.80 (  7.56)\n",
      "Epoch: [0][ 450/2563]\tTime  2.941 ( 1.933)\tData  2.241 ( 1.203)\tLoss 5.3791e+00 (6.1138e+00)\tAcc@1   4.80 (  2.31)\tAcc@5  15.20 (  7.74)\n",
      "Epoch: [0][ 460/2563]\tTime  2.872 ( 1.931)\tData  2.141 ( 1.203)\tLoss 5.4022e+00 (6.0976e+00)\tAcc@1   5.60 (  2.38)\tAcc@5  15.20 (  7.91)\n",
      "Epoch: [0][ 470/2563]\tTime  2.957 ( 1.931)\tData  2.251 ( 1.203)\tLoss 5.3331e+00 (6.0817e+00)\tAcc@1   6.40 (  2.46)\tAcc@5  17.40 (  8.10)\n",
      "Epoch: [0][ 480/2563]\tTime  3.024 ( 1.933)\tData  2.331 ( 1.206)\tLoss 5.2662e+00 (6.0672e+00)\tAcc@1   6.20 (  2.52)\tAcc@5  20.20 (  8.28)\n",
      "Epoch: [0][ 490/2563]\tTime  2.965 ( 1.931)\tData  2.244 ( 1.206)\tLoss 5.2669e+00 (6.0530e+00)\tAcc@1   4.60 (  2.58)\tAcc@5  17.60 (  8.45)\n",
      "Epoch: [0][ 500/2563]\tTime  3.219 ( 1.933)\tData  2.521 ( 1.208)\tLoss 5.2938e+00 (6.0390e+00)\tAcc@1   6.40 (  2.64)\tAcc@5  19.00 (  8.64)\n",
      "Epoch: [0][ 510/2563]\tTime  3.153 ( 1.931)\tData  2.470 ( 1.208)\tLoss 5.3331e+00 (6.0252e+00)\tAcc@1   4.80 (  2.69)\tAcc@5  16.40 (  8.80)\n",
      "Epoch: [0][ 520/2563]\tTime  3.201 ( 1.931)\tData  2.516 ( 1.209)\tLoss 5.2293e+00 (6.0106e+00)\tAcc@1   7.20 (  2.76)\tAcc@5  18.00 (  8.98)\n",
      "Epoch: [0][ 530/2563]\tTime  2.875 ( 1.930)\tData  2.186 ( 1.208)\tLoss 5.2449e+00 (5.9957e+00)\tAcc@1   6.80 (  2.84)\tAcc@5  17.40 (  9.16)\n",
      "Epoch: [0][ 540/2563]\tTime  2.901 ( 1.929)\tData  2.219 ( 1.208)\tLoss 5.2170e+00 (5.9817e+00)\tAcc@1   5.80 (  2.91)\tAcc@5  18.00 (  9.34)\n",
      "Epoch: [0][ 550/2563]\tTime  2.977 ( 1.929)\tData  2.260 ( 1.209)\tLoss 5.2477e+00 (5.9682e+00)\tAcc@1   6.40 (  2.98)\tAcc@5  15.40 (  9.50)\n",
      "Epoch: [0][ 560/2563]\tTime  2.425 ( 1.928)\tData  1.780 ( 1.210)\tLoss 5.3495e+00 (5.9548e+00)\tAcc@1   6.20 (  3.05)\tAcc@5  20.00 (  9.68)\n",
      "Epoch: [0][ 570/2563]\tTime  2.318 ( 1.928)\tData  1.672 ( 1.211)\tLoss 5.0780e+00 (5.9424e+00)\tAcc@1   7.60 (  3.11)\tAcc@5  24.60 (  9.84)\n",
      "Epoch: [0][ 580/2563]\tTime  2.080 ( 1.927)\tData  1.431 ( 1.211)\tLoss 5.2467e+00 (5.9294e+00)\tAcc@1   7.00 (  3.17)\tAcc@5  17.40 ( 10.00)\n",
      "Epoch: [0][ 590/2563]\tTime  1.924 ( 1.926)\tData  1.273 ( 1.211)\tLoss 5.1710e+00 (5.9166e+00)\tAcc@1   7.60 (  3.23)\tAcc@5  19.40 ( 10.16)\n",
      "Epoch: [0][ 600/2563]\tTime  1.605 ( 1.925)\tData  0.956 ( 1.211)\tLoss 5.1204e+00 (5.9031e+00)\tAcc@1   8.40 (  3.31)\tAcc@5  20.60 ( 10.34)\n",
      "Epoch: [0][ 610/2563]\tTime  1.733 ( 1.924)\tData  1.084 ( 1.211)\tLoss 5.2107e+00 (5.8898e+00)\tAcc@1   5.40 (  3.37)\tAcc@5  18.60 ( 10.52)\n",
      "Epoch: [0][ 620/2563]\tTime  1.673 ( 1.925)\tData  1.030 ( 1.214)\tLoss 5.0129e+00 (5.8771e+00)\tAcc@1   7.60 (  3.43)\tAcc@5  24.20 ( 10.70)\n",
      "Epoch: [0][ 630/2563]\tTime  1.554 ( 1.924)\tData  0.908 ( 1.214)\tLoss 5.1598e+00 (5.8641e+00)\tAcc@1   9.00 (  3.51)\tAcc@5  20.20 ( 10.88)\n",
      "Epoch: [0][ 640/2563]\tTime  1.419 ( 1.926)\tData  0.773 ( 1.216)\tLoss 4.9096e+00 (5.8510e+00)\tAcc@1   8.00 (  3.57)\tAcc@5  25.80 ( 11.07)\n",
      "Epoch: [0][ 650/2563]\tTime  1.848 ( 1.925)\tData  1.203 ( 1.217)\tLoss 4.9451e+00 (5.8382e+00)\tAcc@1   8.40 (  3.64)\tAcc@5  22.40 ( 11.24)\n",
      "Epoch: [0][ 660/2563]\tTime  1.810 ( 1.924)\tData  1.166 ( 1.217)\tLoss 5.0375e+00 (5.8254e+00)\tAcc@1   9.60 (  3.72)\tAcc@5  21.20 ( 11.41)\n",
      "Epoch: [0][ 670/2563]\tTime  2.215 ( 1.925)\tData  1.569 ( 1.218)\tLoss 4.9547e+00 (5.8131e+00)\tAcc@1  10.20 (  3.80)\tAcc@5  24.00 ( 11.59)\n",
      "Epoch: [0][ 680/2563]\tTime  1.785 ( 1.924)\tData  1.138 ( 1.218)\tLoss 5.0653e+00 (5.8015e+00)\tAcc@1   9.20 (  3.86)\tAcc@5  22.20 ( 11.74)\n",
      "Epoch: [0][ 690/2563]\tTime  1.788 ( 1.924)\tData  1.143 ( 1.219)\tLoss 4.8585e+00 (5.7898e+00)\tAcc@1  10.40 (  3.93)\tAcc@5  27.20 ( 11.91)\n",
      "Epoch: [0][ 700/2563]\tTime  1.931 ( 1.923)\tData  1.285 ( 1.219)\tLoss 5.0193e+00 (5.7783e+00)\tAcc@1   8.40 (  3.99)\tAcc@5  23.40 ( 12.06)\n",
      "Epoch: [0][ 710/2563]\tTime  2.266 ( 1.923)\tData  1.620 ( 1.219)\tLoss 4.8702e+00 (5.7668e+00)\tAcc@1   8.60 (  4.06)\tAcc@5  23.40 ( 12.22)\n",
      "Epoch: [0][ 720/2563]\tTime  2.729 ( 1.923)\tData  2.037 ( 1.220)\tLoss 4.9954e+00 (5.7550e+00)\tAcc@1   8.40 (  4.13)\tAcc@5  22.60 ( 12.39)\n",
      "Epoch: [0][ 730/2563]\tTime  2.661 ( 1.922)\tData  1.964 ( 1.219)\tLoss 4.8903e+00 (5.7436e+00)\tAcc@1   8.40 (  4.19)\tAcc@5  23.00 ( 12.54)\n",
      "Epoch: [0][ 740/2563]\tTime  1.973 ( 1.922)\tData  1.320 ( 1.219)\tLoss 4.8783e+00 (5.7315e+00)\tAcc@1   8.00 (  4.26)\tAcc@5  22.40 ( 12.72)\n",
      "Epoch: [0][ 750/2563]\tTime  2.133 ( 1.921)\tData  1.483 ( 1.220)\tLoss 4.9396e+00 (5.7206e+00)\tAcc@1   8.40 (  4.32)\tAcc@5  23.00 ( 12.87)\n",
      "Epoch: [0][ 760/2563]\tTime  1.968 ( 1.921)\tData  1.315 ( 1.220)\tLoss 5.0007e+00 (5.7096e+00)\tAcc@1   7.80 (  4.39)\tAcc@5  23.40 ( 13.03)\n",
      "Epoch: [0][ 770/2563]\tTime  2.547 ( 1.921)\tData  1.866 ( 1.220)\tLoss 4.7249e+00 (5.6988e+00)\tAcc@1  12.20 (  4.45)\tAcc@5  27.80 ( 13.19)\n",
      "Epoch: [0][ 780/2563]\tTime  1.772 ( 1.919)\tData  1.115 ( 1.220)\tLoss 4.8728e+00 (5.6879e+00)\tAcc@1   8.60 (  4.53)\tAcc@5  25.20 ( 13.35)\n",
      "Epoch: [0][ 790/2563]\tTime  1.629 ( 1.919)\tData  0.967 ( 1.219)\tLoss 4.8601e+00 (5.6765e+00)\tAcc@1   8.40 (  4.60)\tAcc@5  25.40 ( 13.51)\n",
      "Epoch: [0][ 800/2563]\tTime  0.956 ( 1.918)\tData  0.292 ( 1.219)\tLoss 4.7333e+00 (5.6665e+00)\tAcc@1  11.60 (  4.66)\tAcc@5  29.20 ( 13.66)\n",
      "Epoch: [0][ 810/2563]\tTime  1.494 ( 1.918)\tData  0.837 ( 1.219)\tLoss 4.8960e+00 (5.6558e+00)\tAcc@1  11.40 (  4.73)\tAcc@5  24.60 ( 13.82)\n",
      "Epoch: [0][ 820/2563]\tTime  1.737 ( 1.917)\tData  1.076 ( 1.219)\tLoss 4.6516e+00 (5.6451e+00)\tAcc@1  12.00 (  4.81)\tAcc@5  27.40 ( 13.97)\n",
      "Epoch: [0][ 830/2563]\tTime  1.978 ( 1.916)\tData  1.316 ( 1.219)\tLoss 4.7300e+00 (5.6349e+00)\tAcc@1  11.60 (  4.88)\tAcc@5  27.20 ( 14.12)\n",
      "Epoch: [0][ 840/2563]\tTime  2.305 ( 1.916)\tData  1.641 ( 1.219)\tLoss 4.6093e+00 (5.6243e+00)\tAcc@1  13.00 (  4.95)\tAcc@5  34.80 ( 14.29)\n",
      "Epoch: [0][ 850/2563]\tTime  2.801 ( 1.915)\tData  2.103 ( 1.218)\tLoss 4.7551e+00 (5.6144e+00)\tAcc@1  11.80 (  5.02)\tAcc@5  27.80 ( 14.44)\n",
      "Epoch: [0][ 860/2563]\tTime  3.182 ( 1.915)\tData  2.467 ( 1.218)\tLoss 4.7011e+00 (5.6040e+00)\tAcc@1   9.80 (  5.10)\tAcc@5  28.00 ( 14.60)\n",
      "Epoch: [0][ 870/2563]\tTime  2.914 ( 1.914)\tData  2.191 ( 1.218)\tLoss 4.7512e+00 (5.5939e+00)\tAcc@1  11.80 (  5.16)\tAcc@5  26.40 ( 14.75)\n",
      "Epoch: [0][ 880/2563]\tTime  2.864 ( 1.914)\tData  2.155 ( 1.217)\tLoss 4.6740e+00 (5.5839e+00)\tAcc@1  12.60 (  5.23)\tAcc@5  30.40 ( 14.90)\n",
      "Epoch: [0][ 890/2563]\tTime  2.751 ( 1.913)\tData  2.021 ( 1.216)\tLoss 4.7157e+00 (5.5742e+00)\tAcc@1  10.80 (  5.29)\tAcc@5  26.60 ( 15.04)\n",
      "Epoch: [0][ 900/2563]\tTime  3.752 ( 1.913)\tData  3.037 ( 1.217)\tLoss 4.6916e+00 (5.5642e+00)\tAcc@1  11.20 (  5.37)\tAcc@5  29.60 ( 15.19)\n",
      "Epoch: [0][ 910/2563]\tTime  3.062 ( 1.913)\tData  2.339 ( 1.217)\tLoss 4.6237e+00 (5.5540e+00)\tAcc@1  11.00 (  5.44)\tAcc@5  30.00 ( 15.35)\n",
      "Epoch: [0][ 920/2563]\tTime  3.023 ( 1.914)\tData  2.302 ( 1.218)\tLoss 4.6436e+00 (5.5439e+00)\tAcc@1  13.20 (  5.52)\tAcc@5  27.60 ( 15.50)\n",
      "Epoch: [0][ 930/2563]\tTime  2.855 ( 1.914)\tData  2.157 ( 1.217)\tLoss 4.6679e+00 (5.5340e+00)\tAcc@1  11.80 (  5.60)\tAcc@5  27.40 ( 15.66)\n",
      "Epoch: [0][ 940/2563]\tTime  3.073 ( 1.914)\tData  2.377 ( 1.218)\tLoss 4.5497e+00 (5.5245e+00)\tAcc@1  15.80 (  5.68)\tAcc@5  31.20 ( 15.80)\n",
      "Epoch: [0][ 950/2563]\tTime  2.503 ( 1.913)\tData  1.807 ( 1.217)\tLoss 4.7100e+00 (5.5151e+00)\tAcc@1  10.60 (  5.74)\tAcc@5  27.60 ( 15.93)\n",
      "Epoch: [0][ 960/2563]\tTime  1.766 ( 1.913)\tData  1.100 ( 1.217)\tLoss 4.5411e+00 (5.5056e+00)\tAcc@1  12.40 (  5.81)\tAcc@5  30.20 ( 16.08)\n",
      "Epoch: [0][ 970/2563]\tTime  1.066 ( 1.912)\tData  0.407 ( 1.217)\tLoss 4.6072e+00 (5.4955e+00)\tAcc@1  13.20 (  5.89)\tAcc@5  30.40 ( 16.24)\n",
      "Epoch: [0][ 980/2563]\tTime  1.446 ( 1.913)\tData  0.779 ( 1.218)\tLoss 4.5360e+00 (5.4861e+00)\tAcc@1  13.20 (  5.96)\tAcc@5  31.20 ( 16.39)\n",
      "Epoch: [0][ 990/2563]\tTime  1.671 ( 1.912)\tData  1.009 ( 1.217)\tLoss 4.5709e+00 (5.4767e+00)\tAcc@1  12.00 (  6.03)\tAcc@5  28.60 ( 16.54)\n",
      "Epoch: [0][1000/2563]\tTime  1.796 ( 1.912)\tData  1.131 ( 1.217)\tLoss 4.3685e+00 (5.4665e+00)\tAcc@1  15.20 (  6.11)\tAcc@5  34.80 ( 16.70)\n",
      "Epoch: [0][1010/2563]\tTime  1.987 ( 1.911)\tData  1.320 ( 1.217)\tLoss 4.4530e+00 (5.4565e+00)\tAcc@1  12.20 (  6.19)\tAcc@5  31.80 ( 16.86)\n",
      "Epoch: [0][1020/2563]\tTime  1.146 ( 1.910)\tData  0.482 ( 1.216)\tLoss 4.4888e+00 (5.4470e+00)\tAcc@1  12.40 (  6.26)\tAcc@5  34.60 ( 17.01)\n",
      "Epoch: [0][1030/2563]\tTime  1.131 ( 1.911)\tData  0.468 ( 1.217)\tLoss 4.5714e+00 (5.4380e+00)\tAcc@1  13.40 (  6.33)\tAcc@5  32.40 ( 17.16)\n",
      "Epoch: [0][1040/2563]\tTime  1.271 ( 1.910)\tData  0.603 ( 1.216)\tLoss 4.4959e+00 (5.4288e+00)\tAcc@1  12.60 (  6.40)\tAcc@5  32.20 ( 17.31)\n",
      "Epoch: [0][1050/2563]\tTime  1.001 ( 1.909)\tData  0.337 ( 1.215)\tLoss 4.4142e+00 (5.4194e+00)\tAcc@1  12.20 (  6.47)\tAcc@5  32.80 ( 17.45)\n",
      "Epoch: [0][1060/2563]\tTime  0.772 ( 1.908)\tData  0.100 ( 1.214)\tLoss 4.3805e+00 (5.4098e+00)\tAcc@1  13.40 (  6.54)\tAcc@5  32.60 ( 17.61)\n",
      "Epoch: [0][1070/2563]\tTime  0.670 ( 1.908)\tData  0.002 ( 1.214)\tLoss 4.4134e+00 (5.4011e+00)\tAcc@1  13.80 (  6.61)\tAcc@5  33.80 ( 17.74)\n",
      "Epoch: [0][1080/2563]\tTime  0.663 ( 1.907)\tData  0.003 ( 1.214)\tLoss 4.4382e+00 (5.3923e+00)\tAcc@1  15.00 (  6.68)\tAcc@5  32.80 ( 17.89)\n",
      "Epoch: [0][1090/2563]\tTime  0.655 ( 1.907)\tData  0.003 ( 1.214)\tLoss 4.2490e+00 (5.3834e+00)\tAcc@1  18.80 (  6.75)\tAcc@5  37.20 ( 18.03)\n",
      "Epoch: [0][1100/2563]\tTime  0.650 ( 1.907)\tData  0.003 ( 1.213)\tLoss 4.4481e+00 (5.3745e+00)\tAcc@1  15.20 (  6.82)\tAcc@5  32.60 ( 18.17)\n",
      "Epoch: [0][1110/2563]\tTime  0.649 ( 1.906)\tData  0.002 ( 1.213)\tLoss 4.4636e+00 (5.3658e+00)\tAcc@1  13.60 (  6.89)\tAcc@5  33.20 ( 18.31)\n",
      "Epoch: [0][1120/2563]\tTime  0.647 ( 1.906)\tData  0.002 ( 1.213)\tLoss 4.3048e+00 (5.3569e+00)\tAcc@1  15.80 (  6.96)\tAcc@5  33.60 ( 18.45)\n",
      "Epoch: [0][1130/2563]\tTime  0.650 ( 1.905)\tData  0.003 ( 1.212)\tLoss 4.2299e+00 (5.3480e+00)\tAcc@1  16.40 (  7.03)\tAcc@5  37.80 ( 18.61)\n",
      "Epoch: [0][1140/2563]\tTime  0.644 ( 1.904)\tData  0.002 ( 1.212)\tLoss 4.3452e+00 (5.3394e+00)\tAcc@1  15.60 (  7.10)\tAcc@5  36.40 ( 18.74)\n",
      "Epoch: [0][1150/2563]\tTime  0.644 ( 1.905)\tData  0.003 ( 1.213)\tLoss 4.4151e+00 (5.3308e+00)\tAcc@1  14.40 (  7.17)\tAcc@5  32.40 ( 18.88)\n",
      "Epoch: [0][1160/2563]\tTime  0.646 ( 1.905)\tData  0.003 ( 1.212)\tLoss 4.2315e+00 (5.3217e+00)\tAcc@1  16.20 (  7.25)\tAcc@5  38.60 ( 19.03)\n",
      "Epoch: [0][1170/2563]\tTime  0.746 ( 1.905)\tData  0.099 ( 1.213)\tLoss 4.2838e+00 (5.3131e+00)\tAcc@1  16.00 (  7.33)\tAcc@5  36.80 ( 19.18)\n",
      "Epoch: [0][1180/2563]\tTime  1.661 ( 1.904)\tData  1.015 ( 1.213)\tLoss 4.2882e+00 (5.3049e+00)\tAcc@1  17.00 (  7.39)\tAcc@5  35.00 ( 19.32)\n",
      "Epoch: [0][1190/2563]\tTime  2.202 ( 1.905)\tData  1.554 ( 1.213)\tLoss 4.4192e+00 (5.2966e+00)\tAcc@1  17.00 (  7.46)\tAcc@5  34.40 ( 19.46)\n",
      "Epoch: [0][1200/2563]\tTime  2.797 ( 1.904)\tData  2.111 ( 1.213)\tLoss 4.2389e+00 (5.2880e+00)\tAcc@1  14.20 (  7.52)\tAcc@5  37.80 ( 19.60)\n",
      "Epoch: [0][1210/2563]\tTime  3.065 ( 1.904)\tData  2.356 ( 1.213)\tLoss 4.1876e+00 (5.2794e+00)\tAcc@1  16.20 (  7.60)\tAcc@5  37.40 ( 19.74)\n",
      "Epoch: [0][1220/2563]\tTime  2.974 ( 1.904)\tData  2.265 ( 1.213)\tLoss 4.4941e+00 (5.2715e+00)\tAcc@1  13.20 (  7.66)\tAcc@5  32.60 ( 19.87)\n",
      "Epoch: [0][1230/2563]\tTime  2.746 ( 1.903)\tData  2.045 ( 1.212)\tLoss 4.1791e+00 (5.2631e+00)\tAcc@1  19.20 (  7.73)\tAcc@5  38.80 ( 20.01)\n",
      "Epoch: [0][1240/2563]\tTime  2.979 ( 1.903)\tData  2.262 ( 1.212)\tLoss 4.2885e+00 (5.2547e+00)\tAcc@1  15.40 (  7.80)\tAcc@5  35.80 ( 20.15)\n",
      "Epoch: [0][1250/2563]\tTime  3.265 ( 1.902)\tData  2.573 ( 1.211)\tLoss 4.1728e+00 (5.2463e+00)\tAcc@1  18.20 (  7.87)\tAcc@5  38.60 ( 20.29)\n",
      "Epoch: [0][1260/2563]\tTime  2.590 ( 1.902)\tData  1.886 ( 1.211)\tLoss 4.1214e+00 (5.2382e+00)\tAcc@1  17.40 (  7.94)\tAcc@5  38.00 ( 20.43)\n",
      "Epoch: [0][1270/2563]\tTime  2.698 ( 1.901)\tData  1.980 ( 1.210)\tLoss 4.2048e+00 (5.2302e+00)\tAcc@1  17.60 (  8.00)\tAcc@5  38.00 ( 20.55)\n",
      "Epoch: [0][1280/2563]\tTime  2.686 ( 1.900)\tData  1.989 ( 1.210)\tLoss 4.3010e+00 (5.2225e+00)\tAcc@1  15.80 (  8.08)\tAcc@5  35.00 ( 20.68)\n",
      "Epoch: [0][1290/2563]\tTime  2.691 ( 1.899)\tData  1.989 ( 1.209)\tLoss 4.3190e+00 (5.2144e+00)\tAcc@1  15.80 (  8.15)\tAcc@5  38.40 ( 20.82)\n",
      "Epoch: [0][1300/2563]\tTime  3.006 ( 1.898)\tData  2.305 ( 1.208)\tLoss 4.2683e+00 (5.2064e+00)\tAcc@1  15.40 (  8.22)\tAcc@5  36.20 ( 20.95)\n",
      "Epoch: [0][1310/2563]\tTime  2.686 ( 1.898)\tData  1.993 ( 1.208)\tLoss 4.2242e+00 (5.1990e+00)\tAcc@1  17.40 (  8.28)\tAcc@5  38.20 ( 21.07)\n",
      "Epoch: [0][1320/2563]\tTime  2.324 ( 1.897)\tData  1.662 ( 1.207)\tLoss 4.1680e+00 (5.1914e+00)\tAcc@1  19.00 (  8.35)\tAcc@5  38.00 ( 21.21)\n",
      "Epoch: [0][1330/2563]\tTime  2.668 ( 1.896)\tData  1.973 ( 1.206)\tLoss 3.9249e+00 (5.1837e+00)\tAcc@1  18.20 (  8.41)\tAcc@5  41.40 ( 21.33)\n",
      "Epoch: [0][1340/2563]\tTime  2.469 ( 1.895)\tData  1.781 ( 1.205)\tLoss 4.1181e+00 (5.1759e+00)\tAcc@1  17.40 (  8.48)\tAcc@5  41.20 ( 21.46)\n",
      "Epoch: [0][1350/2563]\tTime  2.601 ( 1.894)\tData  1.876 ( 1.205)\tLoss 4.0404e+00 (5.1680e+00)\tAcc@1  19.40 (  8.55)\tAcc@5  41.00 ( 21.60)\n",
      "Epoch: [0][1360/2563]\tTime  2.336 ( 1.894)\tData  1.671 ( 1.204)\tLoss 4.1806e+00 (5.1608e+00)\tAcc@1  18.40 (  8.61)\tAcc@5  40.20 ( 21.73)\n",
      "Epoch: [0][1370/2563]\tTime  2.833 ( 1.893)\tData  2.133 ( 1.204)\tLoss 4.0440e+00 (5.1529e+00)\tAcc@1  18.00 (  8.68)\tAcc@5  40.60 ( 21.85)\n",
      "Epoch: [0][1380/2563]\tTime  2.707 ( 1.893)\tData  1.983 ( 1.204)\tLoss 3.9601e+00 (5.1453e+00)\tAcc@1  21.20 (  8.75)\tAcc@5  43.60 ( 21.99)\n",
      "Epoch: [0][1390/2563]\tTime  2.477 ( 1.892)\tData  1.813 ( 1.203)\tLoss 4.1906e+00 (5.1378e+00)\tAcc@1  17.00 (  8.82)\tAcc@5  38.00 ( 22.12)\n",
      "Epoch: [0][1400/2563]\tTime  2.777 ( 1.892)\tData  2.046 ( 1.202)\tLoss 4.0067e+00 (5.1302e+00)\tAcc@1  20.00 (  8.89)\tAcc@5  42.00 ( 22.24)\n",
      "Epoch: [0][1410/2563]\tTime  2.475 ( 1.891)\tData  1.775 ( 1.202)\tLoss 4.2293e+00 (5.1231e+00)\tAcc@1  17.80 (  8.96)\tAcc@5  37.00 ( 22.37)\n",
      "Epoch: [0][1420/2563]\tTime  2.154 ( 1.891)\tData  1.488 ( 1.201)\tLoss 4.0889e+00 (5.1155e+00)\tAcc@1  17.00 (  9.02)\tAcc@5  39.60 ( 22.50)\n",
      "Epoch: [0][1430/2563]\tTime  2.240 ( 1.890)\tData  1.577 ( 1.201)\tLoss 4.1096e+00 (5.1081e+00)\tAcc@1  18.40 (  9.09)\tAcc@5  41.60 ( 22.63)\n",
      "Epoch: [0][1440/2563]\tTime  2.317 ( 1.890)\tData  1.651 ( 1.201)\tLoss 4.2799e+00 (5.1008e+00)\tAcc@1  18.40 (  9.16)\tAcc@5  35.60 ( 22.75)\n",
      "Epoch: [0][1450/2563]\tTime  1.986 ( 1.889)\tData  1.319 ( 1.200)\tLoss 4.1870e+00 (5.0940e+00)\tAcc@1  17.80 (  9.22)\tAcc@5  40.00 ( 22.87)\n",
      "Epoch: [0][1460/2563]\tTime  2.232 ( 1.890)\tData  1.565 ( 1.201)\tLoss 4.0042e+00 (5.0864e+00)\tAcc@1  18.20 (  9.29)\tAcc@5  41.00 ( 23.01)\n",
      "Epoch: [0][1470/2563]\tTime  0.759 ( 1.889)\tData  0.095 ( 1.200)\tLoss 3.8819e+00 (5.0792e+00)\tAcc@1  20.80 (  9.36)\tAcc@5  44.00 ( 23.13)\n",
      "Epoch: [0][1480/2563]\tTime  0.655 ( 1.888)\tData  0.002 ( 1.200)\tLoss 4.0486e+00 (5.0720e+00)\tAcc@1  15.40 (  9.42)\tAcc@5  40.20 ( 23.25)\n",
      "Epoch: [0][1490/2563]\tTime  0.800 ( 1.888)\tData  0.152 ( 1.200)\tLoss 4.0056e+00 (5.0648e+00)\tAcc@1  21.40 (  9.49)\tAcc@5  43.20 ( 23.38)\n",
      "Epoch: [0][1500/2563]\tTime  1.284 ( 1.888)\tData  0.639 ( 1.199)\tLoss 3.9117e+00 (5.0577e+00)\tAcc@1  21.40 (  9.56)\tAcc@5  44.20 ( 23.50)\n",
      "Epoch: [0][1510/2563]\tTime  0.648 ( 1.887)\tData  0.003 ( 1.199)\tLoss 3.9639e+00 (5.0506e+00)\tAcc@1  23.40 (  9.62)\tAcc@5  42.20 ( 23.63)\n",
      "Epoch: [0][1520/2563]\tTime  0.742 ( 1.887)\tData  0.098 ( 1.199)\tLoss 4.1164e+00 (5.0437e+00)\tAcc@1  17.60 (  9.69)\tAcc@5  38.20 ( 23.75)\n",
      "Epoch: [0][1530/2563]\tTime  0.738 ( 1.888)\tData  0.096 ( 1.200)\tLoss 3.9418e+00 (5.0367e+00)\tAcc@1  20.60 (  9.75)\tAcc@5  46.40 ( 23.87)\n",
      "Epoch: [0][1540/2563]\tTime  0.651 ( 1.887)\tData  0.002 ( 1.200)\tLoss 3.9545e+00 (5.0296e+00)\tAcc@1  19.40 (  9.82)\tAcc@5  41.80 ( 24.00)\n",
      "Epoch: [0][1550/2563]\tTime  0.646 ( 1.887)\tData  0.003 ( 1.199)\tLoss 3.9999e+00 (5.0230e+00)\tAcc@1  19.60 (  9.88)\tAcc@5  41.00 ( 24.12)\n",
      "Epoch: [0][1560/2563]\tTime  0.648 ( 1.886)\tData  0.002 ( 1.199)\tLoss 4.0370e+00 (5.0161e+00)\tAcc@1  19.40 (  9.95)\tAcc@5  41.60 ( 24.23)\n",
      "Epoch: [0][1570/2563]\tTime  0.650 ( 1.886)\tData  0.002 ( 1.199)\tLoss 4.0583e+00 (5.0095e+00)\tAcc@1  19.00 ( 10.01)\tAcc@5  38.60 ( 24.35)\n",
      "Epoch: [0][1580/2563]\tTime  0.651 ( 1.886)\tData  0.003 ( 1.199)\tLoss 3.8525e+00 (5.0026e+00)\tAcc@1  20.60 ( 10.08)\tAcc@5  44.60 ( 24.47)\n",
      "Epoch: [0][1590/2563]\tTime  0.647 ( 1.885)\tData  0.002 ( 1.198)\tLoss 4.0398e+00 (4.9960e+00)\tAcc@1  23.40 ( 10.14)\tAcc@5  43.20 ( 24.59)\n",
      "Epoch: [0][1600/2563]\tTime  0.651 ( 1.884)\tData  0.002 ( 1.197)\tLoss 3.7118e+00 (4.9892e+00)\tAcc@1  23.80 ( 10.21)\tAcc@5  46.80 ( 24.70)\n",
      "Epoch: [0][1610/2563]\tTime  0.651 ( 1.884)\tData  0.002 ( 1.197)\tLoss 3.9378e+00 (4.9827e+00)\tAcc@1  20.80 ( 10.27)\tAcc@5  43.40 ( 24.82)\n",
      "Epoch: [0][1620/2563]\tTime  0.653 ( 1.883)\tData  0.003 ( 1.196)\tLoss 3.9723e+00 (4.9761e+00)\tAcc@1  21.40 ( 10.34)\tAcc@5  43.80 ( 24.94)\n",
      "Epoch: [0][1630/2563]\tTime  0.656 ( 1.882)\tData  0.002 ( 1.195)\tLoss 3.7423e+00 (4.9695e+00)\tAcc@1  22.00 ( 10.41)\tAcc@5  47.60 ( 25.05)\n",
      "Epoch: [0][1640/2563]\tTime  0.657 ( 1.882)\tData  0.003 ( 1.195)\tLoss 3.8180e+00 (4.9626e+00)\tAcc@1  22.80 ( 10.48)\tAcc@5  47.40 ( 25.17)\n",
      "Epoch: [0][1650/2563]\tTime  0.687 ( 1.883)\tData  0.002 ( 1.196)\tLoss 3.8207e+00 (4.9558e+00)\tAcc@1  22.00 ( 10.54)\tAcc@5  44.20 ( 25.29)\n",
      "Epoch: [0][1660/2563]\tTime  0.690 ( 1.882)\tData  0.003 ( 1.195)\tLoss 3.8177e+00 (4.9491e+00)\tAcc@1  20.80 ( 10.61)\tAcc@5  44.80 ( 25.41)\n",
      "Epoch: [0][1670/2563]\tTime  0.659 ( 1.882)\tData  0.002 ( 1.195)\tLoss 3.8319e+00 (4.9429e+00)\tAcc@1  21.80 ( 10.67)\tAcc@5  41.60 ( 25.52)\n",
      "Epoch: [0][1680/2563]\tTime  0.665 ( 1.882)\tData  0.002 ( 1.195)\tLoss 3.9069e+00 (4.9364e+00)\tAcc@1  20.40 ( 10.73)\tAcc@5  42.40 ( 25.63)\n",
      "Epoch: [0][1690/2563]\tTime  0.661 ( 1.882)\tData  0.003 ( 1.195)\tLoss 3.8749e+00 (4.9298e+00)\tAcc@1  19.80 ( 10.79)\tAcc@5  45.20 ( 25.75)\n",
      "Epoch: [0][1700/2563]\tTime  0.663 ( 1.882)\tData  0.002 ( 1.195)\tLoss 3.7463e+00 (4.9230e+00)\tAcc@1  23.00 ( 10.86)\tAcc@5  47.80 ( 25.87)\n",
      "Epoch: [0][1710/2563]\tTime  0.663 ( 1.882)\tData  0.003 ( 1.195)\tLoss 3.8387e+00 (4.9166e+00)\tAcc@1  20.20 ( 10.92)\tAcc@5  46.00 ( 25.99)\n",
      "Epoch: [0][1720/2563]\tTime  0.663 ( 1.882)\tData  0.002 ( 1.195)\tLoss 3.8803e+00 (4.9105e+00)\tAcc@1  20.60 ( 10.99)\tAcc@5  41.60 ( 26.10)\n",
      "Epoch: [0][1730/2563]\tTime  0.665 ( 1.882)\tData  0.002 ( 1.195)\tLoss 3.9175e+00 (4.9042e+00)\tAcc@1  19.40 ( 11.05)\tAcc@5  43.60 ( 26.20)\n",
      "Epoch: [0][1740/2563]\tTime  0.668 ( 1.882)\tData  0.002 ( 1.195)\tLoss 3.7236e+00 (4.8979e+00)\tAcc@1  25.60 ( 11.12)\tAcc@5  46.60 ( 26.32)\n",
      "Epoch: [0][1750/2563]\tTime  0.670 ( 1.881)\tData  0.002 ( 1.194)\tLoss 3.5247e+00 (4.8912e+00)\tAcc@1  26.80 ( 11.19)\tAcc@5  53.20 ( 26.44)\n",
      "Epoch: [0][1760/2563]\tTime  0.669 ( 1.882)\tData  0.002 ( 1.195)\tLoss 3.6680e+00 (4.8849e+00)\tAcc@1  23.40 ( 11.25)\tAcc@5  47.20 ( 26.55)\n",
      "Epoch: [0][1770/2563]\tTime  0.669 ( 1.881)\tData  0.003 ( 1.194)\tLoss 3.7538e+00 (4.8786e+00)\tAcc@1  22.60 ( 11.32)\tAcc@5  44.20 ( 26.66)\n",
      "Epoch: [0][1780/2563]\tTime  0.670 ( 1.880)\tData  0.003 ( 1.193)\tLoss 3.7120e+00 (4.8720e+00)\tAcc@1  25.40 ( 11.39)\tAcc@5  48.20 ( 26.78)\n",
      "Epoch: [0][1790/2563]\tTime  0.669 ( 1.879)\tData  0.002 ( 1.192)\tLoss 3.6829e+00 (4.8656e+00)\tAcc@1  23.60 ( 11.46)\tAcc@5  45.80 ( 26.89)\n",
      "Epoch: [0][1800/2563]\tTime  0.673 ( 1.879)\tData  0.002 ( 1.192)\tLoss 3.7218e+00 (4.8591e+00)\tAcc@1  27.80 ( 11.53)\tAcc@5  48.80 ( 27.00)\n",
      "Epoch: [0][1810/2563]\tTime  0.670 ( 1.878)\tData  0.002 ( 1.191)\tLoss 3.7470e+00 (4.8528e+00)\tAcc@1  19.20 ( 11.59)\tAcc@5  47.00 ( 27.12)\n",
      "Epoch: [0][1820/2563]\tTime  0.670 ( 1.879)\tData  0.003 ( 1.192)\tLoss 3.6601e+00 (4.8465e+00)\tAcc@1  23.00 ( 11.66)\tAcc@5  49.40 ( 27.23)\n",
      "Epoch: [0][1830/2563]\tTime  0.671 ( 1.879)\tData  0.002 ( 1.192)\tLoss 3.5681e+00 (4.8403e+00)\tAcc@1  25.20 ( 11.72)\tAcc@5  50.40 ( 27.34)\n",
      "Epoch: [0][1840/2563]\tTime  0.670 ( 1.879)\tData  0.003 ( 1.191)\tLoss 3.5277e+00 (4.8342e+00)\tAcc@1  24.80 ( 11.78)\tAcc@5  50.20 ( 27.45)\n",
      "Epoch: [0][1850/2563]\tTime  0.672 ( 1.878)\tData  0.002 ( 1.191)\tLoss 3.6250e+00 (4.8279e+00)\tAcc@1  25.40 ( 11.85)\tAcc@5  47.00 ( 27.56)\n",
      "Epoch: [0][1860/2563]\tTime  0.671 ( 1.879)\tData  0.002 ( 1.191)\tLoss 3.6609e+00 (4.8216e+00)\tAcc@1  24.20 ( 11.91)\tAcc@5  48.20 ( 27.67)\n",
      "Epoch: [0][1870/2563]\tTime  0.672 ( 1.878)\tData  0.002 ( 1.191)\tLoss 3.7682e+00 (4.8157e+00)\tAcc@1  21.80 ( 11.97)\tAcc@5  45.40 ( 27.77)\n",
      "Epoch: [0][1880/2563]\tTime  0.656 ( 1.879)\tData  0.002 ( 1.192)\tLoss 3.6479e+00 (4.8099e+00)\tAcc@1  25.00 ( 12.03)\tAcc@5  46.20 ( 27.87)\n",
      "Epoch: [0][1890/2563]\tTime  0.653 ( 1.880)\tData  0.002 ( 1.192)\tLoss 3.7040e+00 (4.8041e+00)\tAcc@1  22.80 ( 12.09)\tAcc@5  47.00 ( 27.97)\n",
      "Epoch: [0][1900/2563]\tTime  0.648 ( 1.879)\tData  0.003 ( 1.192)\tLoss 3.7461e+00 (4.7988e+00)\tAcc@1  23.60 ( 12.15)\tAcc@5  46.40 ( 28.06)\n",
      "Epoch: [0][1910/2563]\tTime  0.649 ( 1.879)\tData  0.002 ( 1.192)\tLoss 3.7260e+00 (4.7930e+00)\tAcc@1  23.00 ( 12.21)\tAcc@5  46.80 ( 28.16)\n",
      "Epoch: [0][1920/2563]\tTime  0.651 ( 1.879)\tData  0.003 ( 1.192)\tLoss 3.6509e+00 (4.7871e+00)\tAcc@1  24.80 ( 12.28)\tAcc@5  49.20 ( 28.27)\n",
      "Epoch: [0][1930/2563]\tTime  0.677 ( 1.879)\tData  0.002 ( 1.192)\tLoss 3.6361e+00 (4.7814e+00)\tAcc@1  24.00 ( 12.33)\tAcc@5  48.00 ( 28.37)\n",
      "Epoch: [0][1940/2563]\tTime  0.650 ( 1.879)\tData  0.003 ( 1.192)\tLoss 3.6707e+00 (4.7754e+00)\tAcc@1  24.00 ( 12.40)\tAcc@5  49.60 ( 28.48)\n",
      "Epoch: [0][1950/2563]\tTime  0.649 ( 1.879)\tData  0.003 ( 1.192)\tLoss 3.6647e+00 (4.7696e+00)\tAcc@1  25.40 ( 12.46)\tAcc@5  49.60 ( 28.58)\n",
      "Epoch: [0][1960/2563]\tTime  0.646 ( 1.879)\tData  0.002 ( 1.192)\tLoss 3.6474e+00 (4.7638e+00)\tAcc@1  26.40 ( 12.52)\tAcc@5  48.00 ( 28.68)\n",
      "Epoch: [0][1970/2563]\tTime  0.651 ( 1.879)\tData  0.003 ( 1.192)\tLoss 3.5973e+00 (4.7577e+00)\tAcc@1  24.80 ( 12.59)\tAcc@5  47.20 ( 28.80)\n",
      "Epoch: [0][1980/2563]\tTime  0.688 ( 1.879)\tData  0.003 ( 1.192)\tLoss 3.4315e+00 (4.7516e+00)\tAcc@1  25.20 ( 12.65)\tAcc@5  52.60 ( 28.90)\n",
      "Epoch: [0][1990/2563]\tTime  0.651 ( 1.879)\tData  0.003 ( 1.192)\tLoss 3.4708e+00 (4.7459e+00)\tAcc@1  26.00 ( 12.71)\tAcc@5  50.40 ( 29.01)\n",
      "Epoch: [0][2000/2563]\tTime  0.649 ( 1.879)\tData  0.003 ( 1.192)\tLoss 3.6301e+00 (4.7400e+00)\tAcc@1  24.60 ( 12.77)\tAcc@5  51.00 ( 29.12)\n",
      "Epoch: [0][2010/2563]\tTime  0.687 ( 1.879)\tData  0.003 ( 1.192)\tLoss 3.4037e+00 (4.7342e+00)\tAcc@1  26.60 ( 12.84)\tAcc@5  52.40 ( 29.22)\n",
      "Epoch: [0][2020/2563]\tTime  0.651 ( 1.879)\tData  0.002 ( 1.192)\tLoss 3.5903e+00 (4.7286e+00)\tAcc@1  25.60 ( 12.90)\tAcc@5  49.40 ( 29.32)\n",
      "Epoch: [0][2030/2563]\tTime  0.656 ( 1.879)\tData  0.003 ( 1.192)\tLoss 3.4587e+00 (4.7226e+00)\tAcc@1  27.40 ( 12.97)\tAcc@5  51.40 ( 29.42)\n",
      "Epoch: [0][2040/2563]\tTime  0.654 ( 1.879)\tData  0.003 ( 1.193)\tLoss 3.4466e+00 (4.7169e+00)\tAcc@1  28.00 ( 13.03)\tAcc@5  49.60 ( 29.52)\n",
      "Epoch: [0][2050/2563]\tTime  0.690 ( 1.879)\tData  0.003 ( 1.193)\tLoss 3.7965e+00 (4.7112e+00)\tAcc@1  21.80 ( 13.10)\tAcc@5  45.80 ( 29.63)\n",
      "Epoch: [0][2060/2563]\tTime  0.690 ( 1.879)\tData  0.003 ( 1.192)\tLoss 3.6285e+00 (4.7055e+00)\tAcc@1  23.80 ( 13.16)\tAcc@5  48.60 ( 29.73)\n",
      "Epoch: [0][2070/2563]\tTime  0.659 ( 1.879)\tData  0.003 ( 1.192)\tLoss 3.6355e+00 (4.6997e+00)\tAcc@1  22.60 ( 13.22)\tAcc@5  50.00 ( 29.84)\n",
      "Epoch: [0][2080/2563]\tTime  0.660 ( 1.879)\tData  0.002 ( 1.192)\tLoss 3.4633e+00 (4.6942e+00)\tAcc@1  26.40 ( 13.28)\tAcc@5  52.80 ( 29.94)\n",
      "Epoch: [0][2090/2563]\tTime  0.707 ( 1.879)\tData  0.003 ( 1.192)\tLoss 3.5061e+00 (4.6887e+00)\tAcc@1  24.00 ( 13.34)\tAcc@5  49.60 ( 30.03)\n",
      "Epoch: [0][2100/2563]\tTime  0.663 ( 1.878)\tData  0.002 ( 1.192)\tLoss 3.8143e+00 (4.6834e+00)\tAcc@1  21.40 ( 13.40)\tAcc@5  45.80 ( 30.13)\n",
      "Epoch: [0][2110/2563]\tTime  0.665 ( 1.878)\tData  0.002 ( 1.192)\tLoss 3.7099e+00 (4.6778e+00)\tAcc@1  23.60 ( 13.46)\tAcc@5  48.40 ( 30.23)\n",
      "Epoch: [0][2120/2563]\tTime  0.699 ( 1.878)\tData  0.003 ( 1.191)\tLoss 3.6582e+00 (4.6724e+00)\tAcc@1  23.20 ( 13.52)\tAcc@5  47.80 ( 30.33)\n",
      "Epoch: [0][2130/2563]\tTime  0.668 ( 1.877)\tData  0.002 ( 1.191)\tLoss 3.5526e+00 (4.6670e+00)\tAcc@1  25.80 ( 13.58)\tAcc@5  50.20 ( 30.42)\n",
      "Epoch: [0][2140/2563]\tTime  0.667 ( 1.877)\tData  0.002 ( 1.191)\tLoss 3.4644e+00 (4.6616e+00)\tAcc@1  27.20 ( 13.64)\tAcc@5  51.40 ( 30.52)\n",
      "Epoch: [0][2150/2563]\tTime  0.664 ( 1.877)\tData  0.003 ( 1.191)\tLoss 3.5877e+00 (4.6561e+00)\tAcc@1  27.20 ( 13.70)\tAcc@5  51.40 ( 30.62)\n",
      "Epoch: [0][2160/2563]\tTime  0.670 ( 1.877)\tData  0.003 ( 1.190)\tLoss 3.5028e+00 (4.6507e+00)\tAcc@1  27.00 ( 13.76)\tAcc@5  51.80 ( 30.71)\n",
      "Epoch: [0][2170/2563]\tTime  0.669 ( 1.878)\tData  0.003 ( 1.191)\tLoss 3.4983e+00 (4.6453e+00)\tAcc@1  27.40 ( 13.82)\tAcc@5  51.00 ( 30.81)\n",
      "Epoch: [0][2180/2563]\tTime  0.672 ( 1.878)\tData  0.003 ( 1.191)\tLoss 3.5490e+00 (4.6401e+00)\tAcc@1  27.60 ( 13.88)\tAcc@5  50.80 ( 30.91)\n",
      "Epoch: [0][2190/2563]\tTime  0.667 ( 1.877)\tData  0.003 ( 1.191)\tLoss 3.4415e+00 (4.6347e+00)\tAcc@1  26.00 ( 13.94)\tAcc@5  50.80 ( 31.00)\n",
      "Epoch: [0][2200/2563]\tTime  0.669 ( 1.877)\tData  0.003 ( 1.190)\tLoss 3.3496e+00 (4.6291e+00)\tAcc@1  30.20 ( 14.01)\tAcc@5  54.60 ( 31.10)\n",
      "Epoch: [0][2210/2563]\tTime  0.665 ( 1.877)\tData  0.003 ( 1.190)\tLoss 3.4192e+00 (4.6237e+00)\tAcc@1  27.00 ( 14.07)\tAcc@5  53.40 ( 31.20)\n",
      "Epoch: [0][2220/2563]\tTime  0.670 ( 1.877)\tData  0.003 ( 1.190)\tLoss 3.4506e+00 (4.6184e+00)\tAcc@1  27.80 ( 14.13)\tAcc@5  53.00 ( 31.30)\n",
      "Epoch: [0][2230/2563]\tTime  0.668 ( 1.877)\tData  0.002 ( 1.191)\tLoss 3.3112e+00 (4.6131e+00)\tAcc@1  27.60 ( 14.19)\tAcc@5  55.80 ( 31.39)\n",
      "Epoch: [0][2240/2563]\tTime  0.669 ( 1.877)\tData  0.002 ( 1.190)\tLoss 3.3160e+00 (4.6079e+00)\tAcc@1  31.20 ( 14.25)\tAcc@5  56.20 ( 31.49)\n",
      "Epoch: [0][2250/2563]\tTime  0.663 ( 1.877)\tData  0.003 ( 1.190)\tLoss 3.3896e+00 (4.6028e+00)\tAcc@1  27.80 ( 14.31)\tAcc@5  55.60 ( 31.58)\n",
      "Epoch: [0][2260/2563]\tTime  0.670 ( 1.877)\tData  0.003 ( 1.190)\tLoss 3.5112e+00 (4.5976e+00)\tAcc@1  29.00 ( 14.37)\tAcc@5  52.20 ( 31.68)\n",
      "Epoch: [0][2270/2563]\tTime  0.666 ( 1.877)\tData  0.003 ( 1.190)\tLoss 3.3550e+00 (4.5926e+00)\tAcc@1  29.20 ( 14.42)\tAcc@5  53.40 ( 31.77)\n",
      "Epoch: [0][2280/2563]\tTime  0.667 ( 1.876)\tData  0.003 ( 1.190)\tLoss 3.2307e+00 (4.5873e+00)\tAcc@1  30.80 ( 14.48)\tAcc@5  58.40 ( 31.86)\n",
      "Epoch: [0][2290/2563]\tTime  0.669 ( 1.877)\tData  0.003 ( 1.190)\tLoss 3.4209e+00 (4.5823e+00)\tAcc@1  30.20 ( 14.54)\tAcc@5  55.20 ( 31.95)\n",
      "Epoch: [0][2300/2563]\tTime  0.668 ( 1.876)\tData  0.003 ( 1.190)\tLoss 3.4409e+00 (4.5772e+00)\tAcc@1  29.40 ( 14.59)\tAcc@5  55.60 ( 32.04)\n",
      "Epoch: [0][2310/2563]\tTime  0.670 ( 1.876)\tData  0.002 ( 1.189)\tLoss 3.5391e+00 (4.5722e+00)\tAcc@1  24.80 ( 14.65)\tAcc@5  50.60 ( 32.13)\n",
      "Epoch: [0][2320/2563]\tTime  0.675 ( 1.876)\tData  0.003 ( 1.189)\tLoss 3.4301e+00 (4.5671e+00)\tAcc@1  25.60 ( 14.70)\tAcc@5  50.60 ( 32.23)\n",
      "Epoch: [0][2330/2563]\tTime  0.666 ( 1.876)\tData  0.003 ( 1.189)\tLoss 3.3850e+00 (4.5621e+00)\tAcc@1  26.60 ( 14.76)\tAcc@5  54.00 ( 32.32)\n",
      "Epoch: [0][2340/2563]\tTime  0.662 ( 1.876)\tData  0.003 ( 1.189)\tLoss 3.3197e+00 (4.5570e+00)\tAcc@1  30.20 ( 14.82)\tAcc@5  56.60 ( 32.41)\n",
      "Epoch: [0][2350/2563]\tTime  0.666 ( 1.876)\tData  0.003 ( 1.189)\tLoss 3.2955e+00 (4.5520e+00)\tAcc@1  27.40 ( 14.88)\tAcc@5  54.80 ( 32.50)\n",
      "Epoch: [0][2360/2563]\tTime  0.670 ( 1.876)\tData  0.003 ( 1.189)\tLoss 3.2345e+00 (4.5472e+00)\tAcc@1  28.40 ( 14.93)\tAcc@5  56.80 ( 32.59)\n",
      "Epoch: [0][2370/2563]\tTime  0.666 ( 1.876)\tData  0.002 ( 1.189)\tLoss 3.3397e+00 (4.5422e+00)\tAcc@1  28.20 ( 14.99)\tAcc@5  56.00 ( 32.68)\n",
      "Epoch: [0][2380/2563]\tTime  0.669 ( 1.875)\tData  0.002 ( 1.189)\tLoss 3.1093e+00 (4.5371e+00)\tAcc@1  33.20 ( 15.05)\tAcc@5  58.60 ( 32.77)\n",
      "Epoch: [0][2390/2563]\tTime  0.669 ( 1.875)\tData  0.003 ( 1.188)\tLoss 3.3877e+00 (4.5323e+00)\tAcc@1  29.40 ( 15.11)\tAcc@5  53.60 ( 32.86)\n",
      "Epoch: [0][2400/2563]\tTime  0.669 ( 1.875)\tData  0.002 ( 1.188)\tLoss 3.4610e+00 (4.5275e+00)\tAcc@1  27.60 ( 15.17)\tAcc@5  50.00 ( 32.94)\n",
      "Epoch: [0][2410/2563]\tTime  0.671 ( 1.875)\tData  0.002 ( 1.189)\tLoss 3.4397e+00 (4.5226e+00)\tAcc@1  25.40 ( 15.23)\tAcc@5  51.40 ( 33.03)\n",
      "Epoch: [0][2420/2563]\tTime  0.670 ( 1.875)\tData  0.003 ( 1.188)\tLoss 3.3052e+00 (4.5178e+00)\tAcc@1  28.20 ( 15.28)\tAcc@5  53.20 ( 33.12)\n",
      "Epoch: [0][2430/2563]\tTime  0.664 ( 1.875)\tData  0.002 ( 1.188)\tLoss 3.1822e+00 (4.5130e+00)\tAcc@1  32.60 ( 15.34)\tAcc@5  57.60 ( 33.21)\n",
      "Epoch: [0][2440/2563]\tTime  0.664 ( 1.875)\tData  0.002 ( 1.188)\tLoss 3.2874e+00 (4.5082e+00)\tAcc@1  32.60 ( 15.39)\tAcc@5  56.00 ( 33.30)\n",
      "Epoch: [0][2450/2563]\tTime  0.665 ( 1.875)\tData  0.002 ( 1.188)\tLoss 3.3460e+00 (4.5035e+00)\tAcc@1  27.80 ( 15.45)\tAcc@5  57.00 ( 33.39)\n",
      "Epoch: [0][2460/2563]\tTime  0.664 ( 1.875)\tData  0.002 ( 1.188)\tLoss 3.4107e+00 (4.4986e+00)\tAcc@1  30.00 ( 15.51)\tAcc@5  52.60 ( 33.47)\n",
      "Epoch: [0][2470/2563]\tTime  0.664 ( 1.874)\tData  0.002 ( 1.188)\tLoss 3.3991e+00 (4.4941e+00)\tAcc@1  31.00 ( 15.57)\tAcc@5  52.60 ( 33.56)\n",
      "Epoch: [0][2480/2563]\tTime  0.668 ( 1.874)\tData  0.002 ( 1.187)\tLoss 3.5448e+00 (4.4897e+00)\tAcc@1  26.60 ( 15.62)\tAcc@5  50.20 ( 33.64)\n",
      "Epoch: [0][2490/2563]\tTime  0.668 ( 1.874)\tData  0.003 ( 1.187)\tLoss 3.2097e+00 (4.4850e+00)\tAcc@1  31.20 ( 15.68)\tAcc@5  59.00 ( 33.73)\n",
      "Epoch: [0][2500/2563]\tTime  0.697 ( 1.874)\tData  0.003 ( 1.187)\tLoss 3.3846e+00 (4.4804e+00)\tAcc@1  29.80 ( 15.73)\tAcc@5  53.80 ( 33.81)\n",
      "Epoch: [0][2510/2563]\tTime  0.670 ( 1.873)\tData  0.003 ( 1.186)\tLoss 3.3178e+00 (4.4757e+00)\tAcc@1  28.40 ( 15.79)\tAcc@5  53.80 ( 33.89)\n",
      "Epoch: [0][2520/2563]\tTime  0.669 ( 1.873)\tData  0.002 ( 1.186)\tLoss 3.2886e+00 (4.4710e+00)\tAcc@1  30.00 ( 15.84)\tAcc@5  55.80 ( 33.98)\n",
      "Epoch: [0][2530/2563]\tTime  0.670 ( 1.873)\tData  0.003 ( 1.186)\tLoss 3.3287e+00 (4.4663e+00)\tAcc@1  28.60 ( 15.90)\tAcc@5  53.40 ( 34.07)\n",
      "Epoch: [0][2540/2563]\tTime  0.665 ( 1.873)\tData  0.002 ( 1.186)\tLoss 3.4074e+00 (4.4617e+00)\tAcc@1  28.80 ( 15.95)\tAcc@5  54.60 ( 34.15)\n",
      "Epoch: [0][2550/2563]\tTime  0.671 ( 1.873)\tData  0.003 ( 1.186)\tLoss 3.1184e+00 (4.4570e+00)\tAcc@1  36.20 ( 16.01)\tAcc@5  58.20 ( 34.24)\n",
      "Epoch: [0][2560/2563]\tTime  0.670 ( 1.873)\tData  0.002 ( 1.186)\tLoss 3.1590e+00 (4.4524e+00)\tAcc@1  32.00 ( 16.06)\tAcc@5  56.80 ( 34.32)\n",
      "Test: [  0/100]\tTime  6.996 ( 6.996)\tLoss 2.8788e+00 (2.8788e+00)\tAcc@1  33.40 ( 33.40)\tAcc@5  65.40 ( 65.40)\n",
      "Test: [ 10/100]\tTime  3.512 ( 2.269)\tLoss 3.1091e+00 (3.3876e+00)\tAcc@1  36.20 ( 29.11)\tAcc@5  59.40 ( 53.73)\n",
      "Test: [ 20/100]\tTime  3.338 ( 2.122)\tLoss 3.7734e+00 (3.4252e+00)\tAcc@1  11.80 ( 25.60)\tAcc@5  43.20 ( 51.93)\n",
      "Test: [ 30/100]\tTime  3.535 ( 2.064)\tLoss 3.1591e+00 (3.3292e+00)\tAcc@1  30.40 ( 26.10)\tAcc@5  56.20 ( 53.90)\n",
      "Test: [ 40/100]\tTime  3.283 ( 2.040)\tLoss 3.3424e+00 (3.3500e+00)\tAcc@1  33.00 ( 26.48)\tAcc@5  56.00 ( 53.63)\n",
      "Test: [ 50/100]\tTime  3.360 ( 2.020)\tLoss 4.4363e+00 (3.5033e+00)\tAcc@1  16.80 ( 24.93)\tAcc@5  35.80 ( 51.00)\n",
      "Test: [ 60/100]\tTime  3.190 ( 2.009)\tLoss 3.6854e+00 (3.5634e+00)\tAcc@1  31.20 ( 24.73)\tAcc@5  47.80 ( 50.12)\n",
      "Test: [ 70/100]\tTime  3.398 ( 1.990)\tLoss 4.1632e+00 (3.6193e+00)\tAcc@1  18.60 ( 24.21)\tAcc@5  38.60 ( 49.09)\n",
      "Test: [ 80/100]\tTime  3.468 ( 1.978)\tLoss 3.9045e+00 (3.6865e+00)\tAcc@1  23.60 ( 23.78)\tAcc@5  43.40 ( 48.07)\n",
      "Test: [ 90/100]\tTime  3.400 ( 1.965)\tLoss 3.9673e+00 (3.7256e+00)\tAcc@1  20.80 ( 23.31)\tAcc@5  42.60 ( 47.37)\n",
      " * Acc@1 23.974 Acc@5 48.344\n",
      "lr: 0.05\n",
      "Epoch: [1][   0/2563]\tTime  4.806 ( 4.806)\tData  4.089 ( 4.089)\tLoss 3.2300e+00 (3.2300e+00)\tAcc@1  28.60 ( 28.60)\tAcc@5  58.00 ( 58.00)\n",
      "Epoch: [1][  10/2563]\tTime  2.979 ( 2.066)\tData  2.258 ( 1.379)\tLoss 3.0096e+00 (3.1884e+00)\tAcc@1  35.20 ( 31.24)\tAcc@5  60.80 ( 57.22)\n",
      "Epoch: [1][  20/2563]\tTime  2.825 ( 1.929)\tData  2.119 ( 1.244)\tLoss 3.0511e+00 (3.1623e+00)\tAcc@1  32.00 ( 31.71)\tAcc@5  59.40 ( 57.42)\n",
      "Epoch: [1][  30/2563]\tTime  3.106 ( 1.892)\tData  2.395 ( 1.208)\tLoss 3.0960e+00 (3.1189e+00)\tAcc@1  34.20 ( 32.33)\tAcc@5  59.60 ( 58.08)\n",
      "Epoch: [1][  40/2563]\tTime  3.103 ( 1.876)\tData  2.383 ( 1.191)\tLoss 2.9211e+00 (3.0814e+00)\tAcc@1  37.20 ( 33.25)\tAcc@5  62.40 ( 58.78)\n",
      "Epoch: [1][  50/2563]\tTime  2.738 ( 1.838)\tData  2.036 ( 1.154)\tLoss 3.1419e+00 (3.0832e+00)\tAcc@1  34.80 ( 33.26)\tAcc@5  57.80 ( 58.79)\n",
      "Epoch: [1][  60/2563]\tTime  2.704 ( 1.828)\tData  2.009 ( 1.144)\tLoss 3.0095e+00 (3.0790e+00)\tAcc@1  34.00 ( 33.36)\tAcc@5  59.60 ( 58.94)\n",
      "Epoch: [1][  70/2563]\tTime  3.053 ( 1.828)\tData  2.358 ( 1.146)\tLoss 2.9750e+00 (3.0725e+00)\tAcc@1  34.60 ( 33.51)\tAcc@5  61.20 ( 59.25)\n",
      "Epoch: [1][  80/2563]\tTime  2.893 ( 1.824)\tData  2.200 ( 1.143)\tLoss 2.9943e+00 (3.0626e+00)\tAcc@1  36.40 ( 33.62)\tAcc@5  61.40 ( 59.40)\n",
      "Epoch: [1][  90/2563]\tTime  3.139 ( 1.825)\tData  2.452 ( 1.145)\tLoss 2.9747e+00 (3.0584e+00)\tAcc@1  35.60 ( 33.70)\tAcc@5  59.60 ( 59.47)\n",
      "Epoch: [1][ 100/2563]\tTime  2.930 ( 1.824)\tData  2.224 ( 1.145)\tLoss 3.0007e+00 (3.0504e+00)\tAcc@1  35.80 ( 33.88)\tAcc@5  61.60 ( 59.71)\n",
      "Epoch: [1][ 110/2563]\tTime  3.057 ( 1.822)\tData  2.365 ( 1.144)\tLoss 3.0290e+00 (3.0451e+00)\tAcc@1  36.40 ( 33.96)\tAcc@5  58.20 ( 59.83)\n",
      "Epoch: [1][ 120/2563]\tTime  2.833 ( 1.818)\tData  2.155 ( 1.140)\tLoss 3.0311e+00 (3.0426e+00)\tAcc@1  33.20 ( 34.02)\tAcc@5  60.60 ( 59.91)\n",
      "Epoch: [1][ 130/2563]\tTime  2.961 ( 1.813)\tData  2.276 ( 1.136)\tLoss 2.9975e+00 (3.0370e+00)\tAcc@1  33.00 ( 34.18)\tAcc@5  61.80 ( 60.03)\n",
      "Epoch: [1][ 140/2563]\tTime  2.929 ( 1.810)\tData  2.228 ( 1.133)\tLoss 3.0977e+00 (3.0350e+00)\tAcc@1  35.60 ( 34.26)\tAcc@5  59.00 ( 60.11)\n",
      "Epoch: [1][ 150/2563]\tTime  3.063 ( 1.806)\tData  2.381 ( 1.131)\tLoss 3.0444e+00 (3.0333e+00)\tAcc@1  33.80 ( 34.29)\tAcc@5  58.60 ( 60.16)\n",
      "Epoch: [1][ 160/2563]\tTime  2.868 ( 1.804)\tData  2.188 ( 1.129)\tLoss 3.0390e+00 (3.0348e+00)\tAcc@1  34.60 ( 34.23)\tAcc@5  63.00 ( 60.15)\n",
      "Epoch: [1][ 170/2563]\tTime  2.700 ( 1.799)\tData  2.015 ( 1.124)\tLoss 2.9507e+00 (3.0308e+00)\tAcc@1  34.20 ( 34.33)\tAcc@5  61.00 ( 60.25)\n",
      "Epoch: [1][ 180/2563]\tTime  2.779 ( 1.799)\tData  2.086 ( 1.124)\tLoss 2.9134e+00 (3.0259e+00)\tAcc@1  37.20 ( 34.42)\tAcc@5  61.80 ( 60.36)\n",
      "Epoch: [1][ 190/2563]\tTime  2.839 ( 1.797)\tData  2.146 ( 1.123)\tLoss 2.9840e+00 (3.0220e+00)\tAcc@1  35.80 ( 34.45)\tAcc@5  61.40 ( 60.45)\n",
      "Epoch: [1][ 200/2563]\tTime  2.931 ( 1.796)\tData  2.224 ( 1.121)\tLoss 2.7756e+00 (3.0185e+00)\tAcc@1  38.00 ( 34.56)\tAcc@5  64.40 ( 60.51)\n",
      "Epoch: [1][ 210/2563]\tTime  3.136 ( 1.794)\tData  2.429 ( 1.120)\tLoss 2.9005e+00 (3.0161e+00)\tAcc@1  34.40 ( 34.61)\tAcc@5  62.00 ( 60.54)\n",
      "Epoch: [1][ 220/2563]\tTime  2.717 ( 1.790)\tData  2.033 ( 1.117)\tLoss 3.0880e+00 (3.0126e+00)\tAcc@1  34.60 ( 34.65)\tAcc@5  59.20 ( 60.60)\n",
      "Epoch: [1][ 230/2563]\tTime  2.776 ( 1.789)\tData  2.073 ( 1.116)\tLoss 3.1989e+00 (3.0098e+00)\tAcc@1  28.80 ( 34.68)\tAcc@5  58.60 ( 60.65)\n",
      "Epoch: [1][ 240/2563]\tTime  2.800 ( 1.788)\tData  2.094 ( 1.115)\tLoss 2.8149e+00 (3.0071e+00)\tAcc@1  36.00 ( 34.69)\tAcc@5  63.00 ( 60.69)\n",
      "Epoch: [1][ 250/2563]\tTime  3.162 ( 1.789)\tData  2.468 ( 1.115)\tLoss 2.9393e+00 (3.0043e+00)\tAcc@1  34.40 ( 34.71)\tAcc@5  60.00 ( 60.76)\n",
      "Epoch: [1][ 260/2563]\tTime  3.037 ( 1.789)\tData  2.345 ( 1.115)\tLoss 2.8655e+00 (3.0025e+00)\tAcc@1  38.80 ( 34.73)\tAcc@5  65.60 ( 60.80)\n",
      "Epoch: [1][ 270/2563]\tTime  2.905 ( 1.790)\tData  2.193 ( 1.117)\tLoss 2.8926e+00 (3.0006e+00)\tAcc@1  36.80 ( 34.75)\tAcc@5  62.60 ( 60.83)\n",
      "Epoch: [1][ 280/2563]\tTime  3.059 ( 1.790)\tData  2.369 ( 1.116)\tLoss 2.8793e+00 (2.9978e+00)\tAcc@1  36.60 ( 34.80)\tAcc@5  62.60 ( 60.87)\n",
      "Epoch: [1][ 290/2563]\tTime  2.820 ( 1.790)\tData  2.137 ( 1.117)\tLoss 2.9025e+00 (2.9940e+00)\tAcc@1  37.40 ( 34.86)\tAcc@5  62.60 ( 60.96)\n",
      "Epoch: [1][ 300/2563]\tTime  3.074 ( 1.792)\tData  2.360 ( 1.118)\tLoss 3.0495e+00 (2.9932e+00)\tAcc@1  34.60 ( 34.88)\tAcc@5  59.80 ( 60.98)\n",
      "Epoch: [1][ 310/2563]\tTime  2.896 ( 1.791)\tData  2.196 ( 1.117)\tLoss 2.6852e+00 (2.9900e+00)\tAcc@1  42.60 ( 34.95)\tAcc@5  66.40 ( 61.06)\n",
      "Epoch: [1][ 320/2563]\tTime  3.100 ( 1.791)\tData  2.419 ( 1.117)\tLoss 3.0426e+00 (2.9880e+00)\tAcc@1  33.40 ( 34.99)\tAcc@5  61.00 ( 61.09)\n",
      "Epoch: [1][ 330/2563]\tTime  2.840 ( 1.790)\tData  2.157 ( 1.116)\tLoss 2.7800e+00 (2.9844e+00)\tAcc@1  38.20 ( 35.02)\tAcc@5  65.60 ( 61.17)\n",
      "Epoch: [1][ 340/2563]\tTime  2.938 ( 1.789)\tData  2.229 ( 1.116)\tLoss 3.1516e+00 (2.9837e+00)\tAcc@1  32.60 ( 35.05)\tAcc@5  60.40 ( 61.18)\n",
      "Epoch: [1][ 350/2563]\tTime  3.140 ( 1.790)\tData  2.453 ( 1.116)\tLoss 2.8988e+00 (2.9823e+00)\tAcc@1  35.00 ( 35.05)\tAcc@5  62.20 ( 61.20)\n",
      "Epoch: [1][ 360/2563]\tTime  3.031 ( 1.791)\tData  2.323 ( 1.118)\tLoss 2.8359e+00 (2.9801e+00)\tAcc@1  37.80 ( 35.09)\tAcc@5  64.20 ( 61.22)\n",
      "Epoch: [1][ 370/2563]\tTime  3.036 ( 1.794)\tData  2.336 ( 1.120)\tLoss 2.8785e+00 (2.9783e+00)\tAcc@1  37.60 ( 35.11)\tAcc@5  64.20 ( 61.28)\n",
      "Epoch: [1][ 380/2563]\tTime  3.008 ( 1.795)\tData  2.313 ( 1.121)\tLoss 2.9926e+00 (2.9759e+00)\tAcc@1  35.20 ( 35.14)\tAcc@5  62.00 ( 61.32)\n",
      "Epoch: [1][ 390/2563]\tTime  2.913 ( 1.795)\tData  2.198 ( 1.121)\tLoss 2.7955e+00 (2.9736e+00)\tAcc@1  38.00 ( 35.18)\tAcc@5  65.00 ( 61.35)\n",
      "Epoch: [1][ 400/2563]\tTime  2.906 ( 1.795)\tData  2.190 ( 1.120)\tLoss 3.0197e+00 (2.9718e+00)\tAcc@1  36.40 ( 35.20)\tAcc@5  60.40 ( 61.39)\n",
      "Epoch: [1][ 410/2563]\tTime  2.796 ( 1.794)\tData  2.082 ( 1.119)\tLoss 2.8012e+00 (2.9692e+00)\tAcc@1  38.40 ( 35.24)\tAcc@5  62.20 ( 61.44)\n",
      "Epoch: [1][ 420/2563]\tTime  2.900 ( 1.795)\tData  2.181 ( 1.120)\tLoss 2.7682e+00 (2.9678e+00)\tAcc@1  35.20 ( 35.23)\tAcc@5  62.40 ( 61.47)\n",
      "Epoch: [1][ 430/2563]\tTime  2.833 ( 1.795)\tData  2.113 ( 1.120)\tLoss 2.8910e+00 (2.9658e+00)\tAcc@1  37.40 ( 35.27)\tAcc@5  62.80 ( 61.50)\n",
      "Epoch: [1][ 440/2563]\tTime  2.853 ( 1.795)\tData  2.142 ( 1.119)\tLoss 2.8417e+00 (2.9640e+00)\tAcc@1  33.60 ( 35.29)\tAcc@5  65.80 ( 61.54)\n",
      "Epoch: [1][ 450/2563]\tTime  2.862 ( 1.795)\tData  2.163 ( 1.119)\tLoss 3.1850e+00 (2.9638e+00)\tAcc@1  31.40 ( 35.29)\tAcc@5  57.20 ( 61.54)\n",
      "Epoch: [1][ 460/2563]\tTime  3.087 ( 1.795)\tData  2.358 ( 1.119)\tLoss 2.9515e+00 (2.9634e+00)\tAcc@1  34.00 ( 35.29)\tAcc@5  60.60 ( 61.54)\n",
      "Epoch: [1][ 470/2563]\tTime  2.847 ( 1.795)\tData  2.152 ( 1.118)\tLoss 2.7251e+00 (2.9611e+00)\tAcc@1  40.80 ( 35.33)\tAcc@5  66.20 ( 61.57)\n",
      "Epoch: [1][ 480/2563]\tTime  3.078 ( 1.796)\tData  2.377 ( 1.119)\tLoss 2.8630e+00 (2.9596e+00)\tAcc@1  37.40 ( 35.35)\tAcc@5  61.80 ( 61.59)\n",
      "Epoch: [1][ 490/2563]\tTime  3.254 ( 1.797)\tData  2.570 ( 1.121)\tLoss 2.8111e+00 (2.9586e+00)\tAcc@1  39.00 ( 35.37)\tAcc@5  63.40 ( 61.60)\n",
      "Epoch: [1][ 500/2563]\tTime  2.856 ( 1.798)\tData  2.153 ( 1.121)\tLoss 2.9376e+00 (2.9585e+00)\tAcc@1  35.80 ( 35.38)\tAcc@5  61.40 ( 61.61)\n",
      "Epoch: [1][ 510/2563]\tTime  2.848 ( 1.798)\tData  2.160 ( 1.122)\tLoss 2.8913e+00 (2.9576e+00)\tAcc@1  38.40 ( 35.40)\tAcc@5  62.20 ( 61.63)\n",
      "Epoch: [1][ 520/2563]\tTime  3.173 ( 1.799)\tData  2.467 ( 1.122)\tLoss 2.9686e+00 (2.9556e+00)\tAcc@1  39.20 ( 35.42)\tAcc@5  63.60 ( 61.67)\n",
      "Epoch: [1][ 530/2563]\tTime  2.728 ( 1.798)\tData  2.046 ( 1.122)\tLoss 2.8000e+00 (2.9535e+00)\tAcc@1  40.40 ( 35.47)\tAcc@5  62.20 ( 61.69)\n",
      "Epoch: [1][ 540/2563]\tTime  2.887 ( 1.798)\tData  2.183 ( 1.122)\tLoss 2.9974e+00 (2.9534e+00)\tAcc@1  37.40 ( 35.48)\tAcc@5  59.40 ( 61.70)\n",
      "Epoch: [1][ 550/2563]\tTime  2.917 ( 1.798)\tData  2.206 ( 1.121)\tLoss 2.6659e+00 (2.9516e+00)\tAcc@1  37.20 ( 35.50)\tAcc@5  65.80 ( 61.73)\n",
      "Epoch: [1][ 560/2563]\tTime  2.912 ( 1.797)\tData  2.213 ( 1.121)\tLoss 2.9053e+00 (2.9497e+00)\tAcc@1  36.40 ( 35.53)\tAcc@5  61.00 ( 61.77)\n",
      "Epoch: [1][ 570/2563]\tTime  2.701 ( 1.796)\tData  1.995 ( 1.121)\tLoss 2.8880e+00 (2.9483e+00)\tAcc@1  38.40 ( 35.57)\tAcc@5  61.80 ( 61.80)\n",
      "Epoch: [1][ 580/2563]\tTime  3.029 ( 1.797)\tData  2.334 ( 1.121)\tLoss 2.8391e+00 (2.9476e+00)\tAcc@1  38.60 ( 35.58)\tAcc@5  63.80 ( 61.81)\n",
      "Epoch: [1][ 590/2563]\tTime  2.849 ( 1.796)\tData  2.170 ( 1.120)\tLoss 2.8606e+00 (2.9452e+00)\tAcc@1  36.20 ( 35.63)\tAcc@5  64.20 ( 61.87)\n",
      "Epoch: [1][ 600/2563]\tTime  2.839 ( 1.796)\tData  2.150 ( 1.120)\tLoss 2.9521e+00 (2.9440e+00)\tAcc@1  35.80 ( 35.65)\tAcc@5  59.40 ( 61.88)\n",
      "Epoch: [1][ 610/2563]\tTime  2.922 ( 1.796)\tData  2.222 ( 1.120)\tLoss 2.9574e+00 (2.9429e+00)\tAcc@1  34.60 ( 35.67)\tAcc@5  63.00 ( 61.91)\n",
      "Epoch: [1][ 620/2563]\tTime  2.958 ( 1.795)\tData  2.268 ( 1.119)\tLoss 2.7262e+00 (2.9409e+00)\tAcc@1  36.80 ( 35.69)\tAcc@5  67.80 ( 61.95)\n",
      "Epoch: [1][ 630/2563]\tTime  3.055 ( 1.795)\tData  2.369 ( 1.120)\tLoss 2.7837e+00 (2.9399e+00)\tAcc@1  38.80 ( 35.71)\tAcc@5  65.40 ( 61.97)\n",
      "Epoch: [1][ 640/2563]\tTime  2.935 ( 1.795)\tData  2.246 ( 1.120)\tLoss 2.7450e+00 (2.9379e+00)\tAcc@1  38.40 ( 35.74)\tAcc@5  65.80 ( 62.00)\n",
      "Epoch: [1][ 650/2563]\tTime  2.818 ( 1.795)\tData  2.124 ( 1.120)\tLoss 2.8401e+00 (2.9364e+00)\tAcc@1  38.60 ( 35.77)\tAcc@5  65.40 ( 62.02)\n",
      "Epoch: [1][ 660/2563]\tTime  2.954 ( 1.794)\tData  2.253 ( 1.119)\tLoss 2.8048e+00 (2.9344e+00)\tAcc@1  37.20 ( 35.80)\tAcc@5  63.40 ( 62.05)\n",
      "Epoch: [1][ 710/2563]\tTime  2.913 ( 1.793)\tData  2.197 ( 1.118)\tLoss 2.8785e+00 (2.9262e+00)\tAcc@1  38.60 ( 35.96)\tAcc@5  64.20 ( 62.19)\n",
      "Epoch: [1][ 720/2563]\tTime  2.971 ( 1.793)\tData  2.280 ( 1.117)\tLoss 2.7231e+00 (2.9253e+00)\tAcc@1  38.40 ( 35.96)\tAcc@5  67.00 ( 62.21)\n",
      "Epoch: [1][ 730/2563]\tTime  2.961 ( 1.793)\tData  2.267 ( 1.118)\tLoss 2.8232e+00 (2.9243e+00)\tAcc@1  37.20 ( 35.98)\tAcc@5  62.20 ( 62.23)\n",
      "Epoch: [1][ 740/2563]\tTime  2.882 ( 1.793)\tData  2.198 ( 1.118)\tLoss 2.7041e+00 (2.9223e+00)\tAcc@1  36.60 ( 36.00)\tAcc@5  67.20 ( 62.26)\n",
      "Epoch: [1][ 750/2563]\tTime  2.983 ( 1.794)\tData  2.292 ( 1.119)\tLoss 2.6202e+00 (2.9210e+00)\tAcc@1  39.80 ( 36.03)\tAcc@5  68.00 ( 62.28)\n",
      "Epoch: [1][ 760/2563]\tTime  2.919 ( 1.794)\tData  2.215 ( 1.119)\tLoss 2.8609e+00 (2.9194e+00)\tAcc@1  37.00 ( 36.06)\tAcc@5  64.80 ( 62.31)\n",
      "Epoch: [1][ 770/2563]\tTime  2.845 ( 1.794)\tData  2.149 ( 1.119)\tLoss 2.7946e+00 (2.9178e+00)\tAcc@1  39.60 ( 36.09)\tAcc@5  66.80 ( 62.34)\n",
      "Epoch: [1][ 780/2563]\tTime  3.066 ( 1.794)\tData  2.364 ( 1.119)\tLoss 2.7764e+00 (2.9162e+00)\tAcc@1  38.40 ( 36.12)\tAcc@5  64.40 ( 62.37)\n",
      "Epoch: [1][ 790/2563]\tTime  3.019 ( 1.794)\tData  2.323 ( 1.119)\tLoss 2.8223e+00 (2.9144e+00)\tAcc@1  37.40 ( 36.15)\tAcc@5  65.20 ( 62.40)\n",
      "Epoch: [1][ 800/2563]\tTime  3.087 ( 1.794)\tData  2.372 ( 1.119)\tLoss 2.8138e+00 (2.9136e+00)\tAcc@1  40.40 ( 36.16)\tAcc@5  62.60 ( 62.41)\n",
      "Epoch: [1][ 810/2563]\tTime  2.989 ( 1.794)\tData  2.286 ( 1.120)\tLoss 2.6912e+00 (2.9126e+00)\tAcc@1  42.60 ( 36.19)\tAcc@5  65.80 ( 62.43)\n",
      "Epoch: [1][ 820/2563]\tTime  3.053 ( 1.795)\tData  2.342 ( 1.120)\tLoss 2.8124e+00 (2.9120e+00)\tAcc@1  37.80 ( 36.20)\tAcc@5  63.60 ( 62.44)\n",
      "Epoch: [1][ 830/2563]\tTime  3.053 ( 1.795)\tData  2.344 ( 1.120)\tLoss 2.8425e+00 (2.9108e+00)\tAcc@1  39.60 ( 36.23)\tAcc@5  62.80 ( 62.46)\n",
      "Epoch: [1][ 840/2563]\tTime  2.796 ( 1.794)\tData  2.102 ( 1.119)\tLoss 2.8955e+00 (2.9092e+00)\tAcc@1  36.80 ( 36.25)\tAcc@5  60.20 ( 62.49)\n",
      "Epoch: [1][ 850/2563]\tTime  3.041 ( 1.794)\tData  2.355 ( 1.119)\tLoss 2.7082e+00 (2.9079e+00)\tAcc@1  41.40 ( 36.27)\tAcc@5  65.80 ( 62.51)\n",
      "Epoch: [1][ 860/2563]\tTime  2.886 ( 1.794)\tData  2.172 ( 1.119)\tLoss 2.8857e+00 (2.9068e+00)\tAcc@1  34.80 ( 36.28)\tAcc@5  61.60 ( 62.53)\n",
      "Epoch: [1][ 870/2563]\tTime  2.919 ( 1.794)\tData  2.208 ( 1.119)\tLoss 2.7628e+00 (2.9058e+00)\tAcc@1  38.00 ( 36.30)\tAcc@5  65.40 ( 62.55)\n",
      "Epoch: [1][ 880/2563]\tTime  2.949 ( 1.794)\tData  2.242 ( 1.119)\tLoss 2.7450e+00 (2.9045e+00)\tAcc@1  37.60 ( 36.33)\tAcc@5  63.80 ( 62.57)\n",
      "Epoch: [1][ 890/2563]\tTime  2.969 ( 1.794)\tData  2.266 ( 1.119)\tLoss 2.8018e+00 (2.9034e+00)\tAcc@1  40.20 ( 36.35)\tAcc@5  64.00 ( 62.59)\n",
      "Epoch: [1][ 900/2563]\tTime  2.900 ( 1.794)\tData  2.197 ( 1.119)\tLoss 2.8753e+00 (2.9029e+00)\tAcc@1  35.60 ( 36.35)\tAcc@5  61.00 ( 62.59)\n",
      "Epoch: [1][ 910/2563]\tTime  2.899 ( 1.793)\tData  2.211 ( 1.119)\tLoss 2.7258e+00 (2.9013e+00)\tAcc@1  40.80 ( 36.37)\tAcc@5  65.60 ( 62.63)\n",
      "Epoch: [1][ 920/2563]\tTime  2.799 ( 1.793)\tData  2.108 ( 1.118)\tLoss 2.6758e+00 (2.8996e+00)\tAcc@1  43.40 ( 36.40)\tAcc@5  65.80 ( 62.65)\n",
      "Epoch: [1][ 930/2563]\tTime  2.900 ( 1.793)\tData  2.191 ( 1.119)\tLoss 2.6890e+00 (2.8985e+00)\tAcc@1  41.60 ( 36.42)\tAcc@5  64.80 ( 62.67)\n",
      "Epoch: [1][ 940/2563]\tTime  2.922 ( 1.794)\tData  2.218 ( 1.119)\tLoss 2.6659e+00 (2.8980e+00)\tAcc@1  39.80 ( 36.43)\tAcc@5  67.80 ( 62.68)\n",
      "Epoch: [1][ 950/2563]\tTime  3.012 ( 1.793)\tData  2.305 ( 1.118)\tLoss 2.8690e+00 (2.8973e+00)\tAcc@1  36.60 ( 36.44)\tAcc@5  62.40 ( 62.70)\n",
      "Epoch: [1][ 960/2563]\tTime  2.770 ( 1.793)\tData  2.043 ( 1.118)\tLoss 2.8453e+00 (2.8959e+00)\tAcc@1  39.00 ( 36.47)\tAcc@5  65.80 ( 62.73)\n",
      "Epoch: [1][ 970/2563]\tTime  2.808 ( 1.793)\tData  2.105 ( 1.117)\tLoss 2.7946e+00 (2.8951e+00)\tAcc@1  37.60 ( 36.49)\tAcc@5  64.40 ( 62.75)\n",
      "Epoch: [1][ 980/2563]\tTime  2.784 ( 1.793)\tData  2.083 ( 1.117)\tLoss 2.9319e+00 (2.8942e+00)\tAcc@1  37.60 ( 36.50)\tAcc@5  62.60 ( 62.77)\n",
      "Epoch: [1][ 990/2563]\tTime  2.887 ( 1.793)\tData  2.181 ( 1.117)\tLoss 2.8172e+00 (2.8930e+00)\tAcc@1  37.60 ( 36.53)\tAcc@5  65.80 ( 62.79)\n",
      "Epoch: [1][1000/2563]\tTime  2.900 ( 1.793)\tData  2.201 ( 1.117)\tLoss 2.7921e+00 (2.8921e+00)\tAcc@1  39.20 ( 36.54)\tAcc@5  63.20 ( 62.81)\n",
      "Epoch: [1][1010/2563]\tTime  2.866 ( 1.793)\tData  2.138 ( 1.117)\tLoss 2.7356e+00 (2.8913e+00)\tAcc@1  43.00 ( 36.57)\tAcc@5  66.80 ( 62.83)\n",
      "Epoch: [1][1020/2563]\tTime  2.984 ( 1.793)\tData  2.262 ( 1.117)\tLoss 2.6546e+00 (2.8907e+00)\tAcc@1  41.80 ( 36.57)\tAcc@5  67.40 ( 62.85)\n",
      "Epoch: [1][1030/2563]\tTime  2.927 ( 1.793)\tData  2.226 ( 1.117)\tLoss 2.7566e+00 (2.8892e+00)\tAcc@1  40.40 ( 36.59)\tAcc@5  64.40 ( 62.87)\n",
      "Epoch: [1][1040/2563]\tTime  2.811 ( 1.793)\tData  2.107 ( 1.117)\tLoss 2.7828e+00 (2.8878e+00)\tAcc@1  39.80 ( 36.62)\tAcc@5  64.80 ( 62.90)\n",
      "Epoch: [1][1050/2563]\tTime  2.692 ( 1.792)\tData  1.982 ( 1.116)\tLoss 2.7108e+00 (2.8865e+00)\tAcc@1  39.60 ( 36.64)\tAcc@5  64.20 ( 62.93)\n",
      "Epoch: [1][1060/2563]\tTime  3.020 ( 1.792)\tData  2.322 ( 1.116)\tLoss 2.6627e+00 (2.8853e+00)\tAcc@1  37.40 ( 36.65)\tAcc@5  67.60 ( 62.95)\n",
      "Epoch: [1][1070/2563]\tTime  2.784 ( 1.792)\tData  2.074 ( 1.116)\tLoss 2.7698e+00 (2.8841e+00)\tAcc@1  36.60 ( 36.68)\tAcc@5  68.40 ( 62.97)\n",
      "Epoch: [1][1080/2563]\tTime  2.946 ( 1.792)\tData  2.215 ( 1.116)\tLoss 2.8724e+00 (2.8833e+00)\tAcc@1  37.60 ( 36.69)\tAcc@5  63.00 ( 62.98)\n",
      "Epoch: [1][1090/2563]\tTime  2.933 ( 1.793)\tData  2.228 ( 1.117)\tLoss 2.6881e+00 (2.8823e+00)\tAcc@1  41.20 ( 36.71)\tAcc@5  65.20 ( 63.00)\n",
      "Epoch: [1][1100/2563]\tTime  2.682 ( 1.793)\tData  1.969 ( 1.116)\tLoss 2.8716e+00 (2.8819e+00)\tAcc@1  38.60 ( 36.72)\tAcc@5  60.80 ( 63.00)\n",
      "Epoch: [1][1110/2563]\tTime  3.207 ( 1.793)\tData  2.513 ( 1.116)\tLoss 2.6900e+00 (2.8807e+00)\tAcc@1  40.60 ( 36.74)\tAcc@5  66.00 ( 63.02)\n",
      "Epoch: [1][1120/2563]\tTime  3.151 ( 1.793)\tData  2.430 ( 1.116)\tLoss 2.8311e+00 (2.8796e+00)\tAcc@1  38.20 ( 36.77)\tAcc@5  65.40 ( 63.04)\n",
      "Epoch: [1][1130/2563]\tTime  3.095 ( 1.793)\tData  2.382 ( 1.116)\tLoss 2.8703e+00 (2.8789e+00)\tAcc@1  37.00 ( 36.78)\tAcc@5  65.20 ( 63.05)\n",
      "Epoch: [1][1140/2563]\tTime  3.134 ( 1.793)\tData  2.419 ( 1.116)\tLoss 2.8539e+00 (2.8775e+00)\tAcc@1  36.80 ( 36.81)\tAcc@5  64.00 ( 63.08)\n",
      "Epoch: [1][1150/2563]\tTime  2.937 ( 1.793)\tData  2.208 ( 1.115)\tLoss 2.7603e+00 (2.8763e+00)\tAcc@1  39.60 ( 36.82)\tAcc@5  65.40 ( 63.10)\n",
      "Epoch: [1][1160/2563]\tTime  2.851 ( 1.792)\tData  2.147 ( 1.115)\tLoss 2.5862e+00 (2.8752e+00)\tAcc@1  41.40 ( 36.84)\tAcc@5  68.20 ( 63.12)\n",
      "Epoch: [1][1170/2563]\tTime  2.850 ( 1.792)\tData  2.154 ( 1.115)\tLoss 2.7210e+00 (2.8740e+00)\tAcc@1  38.60 ( 36.86)\tAcc@5  64.80 ( 63.15)\n",
      "Epoch: [1][1180/2563]\tTime  2.988 ( 1.792)\tData  2.288 ( 1.115)\tLoss 2.8653e+00 (2.8734e+00)\tAcc@1  38.60 ( 36.87)\tAcc@5  63.40 ( 63.16)\n",
      "Epoch: [1][1190/2563]\tTime  2.724 ( 1.792)\tData  2.014 ( 1.114)\tLoss 2.9310e+00 (2.8724e+00)\tAcc@1  34.00 ( 36.90)\tAcc@5  60.80 ( 63.18)\n",
      "Epoch: [1][1200/2563]\tTime  2.706 ( 1.791)\tData  1.985 ( 1.114)\tLoss 2.6289e+00 (2.8720e+00)\tAcc@1  42.40 ( 36.91)\tAcc@5  66.60 ( 63.18)\n",
      "Epoch: [1][1210/2563]\tTime  2.790 ( 1.791)\tData  2.066 ( 1.113)\tLoss 2.7105e+00 (2.8709e+00)\tAcc@1  38.80 ( 36.93)\tAcc@5  66.20 ( 63.19)\n",
      "Epoch: [1][1220/2563]\tTime  2.821 ( 1.791)\tData  2.123 ( 1.113)\tLoss 2.8115e+00 (2.8696e+00)\tAcc@1  38.20 ( 36.95)\tAcc@5  62.80 ( 63.22)\n",
      "Epoch: [1][1230/2563]\tTime  2.961 ( 1.791)\tData  2.263 ( 1.113)\tLoss 2.6763e+00 (2.8684e+00)\tAcc@1  42.40 ( 36.96)\tAcc@5  66.80 ( 63.24)\n",
      "Epoch: [1][1240/2563]\tTime  2.845 ( 1.791)\tData  2.134 ( 1.113)\tLoss 2.7484e+00 (2.8673e+00)\tAcc@1  38.80 ( 36.98)\tAcc@5  67.00 ( 63.26)\n",
      "Epoch: [1][1250/2563]\tTime  2.998 ( 1.791)\tData  2.305 ( 1.113)\tLoss 2.8205e+00 (2.8665e+00)\tAcc@1  36.60 ( 37.00)\tAcc@5  63.40 ( 63.27)\n",
      "Epoch: [1][1260/2563]\tTime  2.841 ( 1.791)\tData  2.124 ( 1.113)\tLoss 2.6778e+00 (2.8656e+00)\tAcc@1  39.80 ( 37.01)\tAcc@5  68.00 ( 63.29)\n",
      "Epoch: [1][1270/2563]\tTime  2.798 ( 1.791)\tData  2.114 ( 1.113)\tLoss 2.6410e+00 (2.8644e+00)\tAcc@1  43.00 ( 37.03)\tAcc@5  66.80 ( 63.31)\n",
      "Epoch: [1][1280/2563]\tTime  3.119 ( 1.791)\tData  2.402 ( 1.113)\tLoss 2.6076e+00 (2.8631e+00)\tAcc@1  42.60 ( 37.06)\tAcc@5  68.00 ( 63.33)\n",
      "Epoch: [1][1290/2563]\tTime  3.329 ( 1.795)\tData  2.630 ( 1.117)\tLoss 2.5553e+00 (2.8618e+00)\tAcc@1  42.20 ( 37.07)\tAcc@5  67.00 ( 63.35)\n",
      "Epoch: [1][1300/2563]\tTime  3.128 ( 1.796)\tData  2.430 ( 1.118)\tLoss 2.6511e+00 (2.8608e+00)\tAcc@1  39.60 ( 37.09)\tAcc@5  65.00 ( 63.37)\n",
      "Epoch: [1][1360/2563]\tTime  2.859 ( 1.796)\tData  2.177 ( 1.119)\tLoss 2.7322e+00 (2.8549e+00)\tAcc@1  38.60 ( 37.18)\tAcc@5  66.40 ( 63.49)\n",
      "Epoch: [1][1370/2563]\tTime  2.793 ( 1.796)\tData  2.087 ( 1.118)\tLoss 2.7130e+00 (2.8540e+00)\tAcc@1  40.20 ( 37.19)\tAcc@5  65.80 ( 63.50)\n",
      "Epoch: [1][1380/2563]\tTime  2.900 ( 1.796)\tData  2.210 ( 1.118)\tLoss 2.7720e+00 (2.8529e+00)\tAcc@1  40.60 ( 37.21)\tAcc@5  66.00 ( 63.52)\n",
      "Epoch: [1][1390/2563]\tTime  2.765 ( 1.795)\tData  2.068 ( 1.118)\tLoss 2.7943e+00 (2.8518e+00)\tAcc@1  39.60 ( 37.23)\tAcc@5  66.40 ( 63.55)\n",
      "Epoch: [1][1400/2563]\tTime  2.927 ( 1.795)\tData  2.215 ( 1.118)\tLoss 2.5883e+00 (2.8509e+00)\tAcc@1  43.00 ( 37.25)\tAcc@5  68.60 ( 63.56)\n",
      "Epoch: [1][1410/2563]\tTime  2.817 ( 1.795)\tData  2.118 ( 1.118)\tLoss 2.6512e+00 (2.8496e+00)\tAcc@1  38.60 ( 37.27)\tAcc@5  67.40 ( 63.58)\n",
      "Epoch: [1][1420/2563]\tTime  2.917 ( 1.795)\tData  2.213 ( 1.118)\tLoss 2.7520e+00 (2.8488e+00)\tAcc@1  38.80 ( 37.29)\tAcc@5  66.60 ( 63.60)\n",
      "Epoch: [1][1430/2563]\tTime  2.919 ( 1.795)\tData  2.213 ( 1.118)\tLoss 2.7654e+00 (2.8479e+00)\tAcc@1  38.40 ( 37.31)\tAcc@5  66.60 ( 63.62)\n",
      "Epoch: [1][1440/2563]\tTime  2.940 ( 1.795)\tData  2.226 ( 1.118)\tLoss 2.7937e+00 (2.8470e+00)\tAcc@1  38.40 ( 37.33)\tAcc@5  64.60 ( 63.63)\n",
      "Epoch: [1][1450/2563]\tTime  2.847 ( 1.795)\tData  2.146 ( 1.118)\tLoss 2.7189e+00 (2.8459e+00)\tAcc@1  39.40 ( 37.35)\tAcc@5  66.20 ( 63.65)\n",
      "Epoch: [1][1460/2563]\tTime  2.811 ( 1.795)\tData  2.114 ( 1.118)\tLoss 2.7702e+00 (2.8451e+00)\tAcc@1  42.00 ( 37.36)\tAcc@5  64.60 ( 63.67)\n",
      "Epoch: [1][1470/2563]\tTime  3.050 ( 1.795)\tData  2.355 ( 1.118)\tLoss 2.5597e+00 (2.8440e+00)\tAcc@1  42.00 ( 37.38)\tAcc@5  68.80 ( 63.69)\n",
      "Epoch: [1][1480/2563]\tTime  2.871 ( 1.795)\tData  2.164 ( 1.117)\tLoss 2.7098e+00 (2.8430e+00)\tAcc@1  40.60 ( 37.40)\tAcc@5  64.40 ( 63.71)\n",
      "Epoch: [1][1490/2563]\tTime  2.847 ( 1.795)\tData  2.141 ( 1.117)\tLoss 2.6851e+00 (2.8421e+00)\tAcc@1  39.20 ( 37.41)\tAcc@5  67.80 ( 63.72)\n",
      "Epoch: [1][1500/2563]\tTime  2.802 ( 1.794)\tData  2.094 ( 1.117)\tLoss 2.6816e+00 (2.8410e+00)\tAcc@1  39.60 ( 37.44)\tAcc@5  65.00 ( 63.74)\n",
      "Epoch: [1][1510/2563]\tTime  2.802 ( 1.794)\tData  2.100 ( 1.117)\tLoss 2.6835e+00 (2.8402e+00)\tAcc@1  39.40 ( 37.45)\tAcc@5  65.80 ( 63.75)\n",
      "Epoch: [1][1520/2563]\tTime  2.926 ( 1.794)\tData  2.230 ( 1.116)\tLoss 2.7017e+00 (2.8390e+00)\tAcc@1  36.40 ( 37.47)\tAcc@5  64.80 ( 63.78)\n",
      "Epoch: [1][1530/2563]\tTime  3.019 ( 1.794)\tData  2.323 ( 1.116)\tLoss 2.5539e+00 (2.8379e+00)\tAcc@1  41.60 ( 37.49)\tAcc@5  69.80 ( 63.80)\n",
      "Epoch: [1][1540/2563]\tTime  2.973 ( 1.794)\tData  2.252 ( 1.116)\tLoss 2.5305e+00 (2.8367e+00)\tAcc@1  41.60 ( 37.51)\tAcc@5  67.40 ( 63.81)\n",
      "Epoch: [1][1550/2563]\tTime  2.979 ( 1.794)\tData  2.270 ( 1.116)\tLoss 2.6205e+00 (2.8356e+00)\tAcc@1  40.80 ( 37.53)\tAcc@5  68.80 ( 63.84)\n",
      "Epoch: [1][1560/2563]\tTime  2.948 ( 1.794)\tData  2.240 ( 1.116)\tLoss 2.6326e+00 (2.8346e+00)\tAcc@1  40.00 ( 37.55)\tAcc@5  67.00 ( 63.86)\n",
      "Epoch: [1][1570/2563]\tTime  2.759 ( 1.794)\tData  2.050 ( 1.116)\tLoss 2.7456e+00 (2.8335e+00)\tAcc@1  42.00 ( 37.57)\tAcc@5  63.60 ( 63.87)\n",
      "Epoch: [1][1580/2563]\tTime  2.810 ( 1.794)\tData  2.105 ( 1.116)\tLoss 2.4978e+00 (2.8325e+00)\tAcc@1  43.40 ( 37.59)\tAcc@5  70.00 ( 63.90)\n",
      "Epoch: [1][1590/2563]\tTime  2.998 ( 1.794)\tData  2.290 ( 1.116)\tLoss 2.7523e+00 (2.8315e+00)\tAcc@1  37.00 ( 37.61)\tAcc@5  62.60 ( 63.91)\n",
      "Epoch: [1][1600/2563]\tTime  2.765 ( 1.794)\tData  2.063 ( 1.116)\tLoss 2.6432e+00 (2.8306e+00)\tAcc@1  39.80 ( 37.63)\tAcc@5  67.80 ( 63.93)\n",
      "Epoch: [1][1610/2563]\tTime  2.846 ( 1.794)\tData  2.144 ( 1.116)\tLoss 2.6214e+00 (2.8295e+00)\tAcc@1  41.00 ( 37.65)\tAcc@5  66.60 ( 63.95)\n",
      "Epoch: [1][1620/2563]\tTime  2.885 ( 1.794)\tData  2.154 ( 1.115)\tLoss 2.7886e+00 (2.8286e+00)\tAcc@1  40.00 ( 37.67)\tAcc@5  65.20 ( 63.97)\n",
      "Epoch: [1][1630/2563]\tTime  2.992 ( 1.794)\tData  2.285 ( 1.116)\tLoss 2.7754e+00 (2.8276e+00)\tAcc@1  40.00 ( 37.68)\tAcc@5  64.40 ( 63.98)\n",
      "Epoch: [1][1640/2563]\tTime  2.958 ( 1.794)\tData  2.257 ( 1.115)\tLoss 2.5240e+00 (2.8266e+00)\tAcc@1  43.40 ( 37.70)\tAcc@5  70.80 ( 64.00)\n",
      "Epoch: [1][1650/2563]\tTime  2.858 ( 1.794)\tData  2.124 ( 1.115)\tLoss 2.6583e+00 (2.8254e+00)\tAcc@1  40.00 ( 37.72)\tAcc@5  69.20 ( 64.02)\n",
      "Epoch: [1][1660/2563]\tTime  2.971 ( 1.794)\tData  2.252 ( 1.115)\tLoss 2.5891e+00 (2.8245e+00)\tAcc@1  38.80 ( 37.73)\tAcc@5  68.20 ( 64.04)\n",
      "Epoch: [1][1670/2563]\tTime  2.821 ( 1.794)\tData  2.113 ( 1.116)\tLoss 2.5210e+00 (2.8232e+00)\tAcc@1  45.00 ( 37.75)\tAcc@5  72.00 ( 64.06)\n",
      "Epoch: [1][1680/2563]\tTime  2.939 ( 1.794)\tData  2.233 ( 1.115)\tLoss 2.6705e+00 (2.8224e+00)\tAcc@1  42.40 ( 37.76)\tAcc@5  67.20 ( 64.08)\n",
      "Epoch: [1][1690/2563]\tTime  3.041 ( 1.795)\tData  2.334 ( 1.116)\tLoss 2.4703e+00 (2.8209e+00)\tAcc@1  42.40 ( 37.79)\tAcc@5  69.80 ( 64.11)\n",
      "Epoch: [1][1700/2563]\tTime  2.846 ( 1.795)\tData  2.118 ( 1.116)\tLoss 2.4561e+00 (2.8201e+00)\tAcc@1  41.40 ( 37.80)\tAcc@5  70.40 ( 64.13)\n",
      "Epoch: [1][1710/2563]\tTime  2.797 ( 1.795)\tData  2.091 ( 1.116)\tLoss 2.6232e+00 (2.8193e+00)\tAcc@1  40.80 ( 37.82)\tAcc@5  67.40 ( 64.14)\n",
      "Epoch: [1][1720/2563]\tTime  2.858 ( 1.795)\tData  2.134 ( 1.116)\tLoss 2.6715e+00 (2.8184e+00)\tAcc@1  38.20 ( 37.83)\tAcc@5  65.20 ( 64.15)\n",
      "Epoch: [1][1730/2563]\tTime  2.957 ( 1.795)\tData  2.245 ( 1.116)\tLoss 2.7336e+00 (2.8176e+00)\tAcc@1  37.00 ( 37.85)\tAcc@5  67.20 ( 64.17)\n",
      "Epoch: [1][1740/2563]\tTime  2.988 ( 1.795)\tData  2.280 ( 1.116)\tLoss 2.6814e+00 (2.8167e+00)\tAcc@1  41.80 ( 37.86)\tAcc@5  64.00 ( 64.19)\n",
      "Epoch: [1][1750/2563]\tTime  2.947 ( 1.795)\tData  2.241 ( 1.116)\tLoss 2.7519e+00 (2.8158e+00)\tAcc@1  39.60 ( 37.88)\tAcc@5  65.40 ( 64.20)\n",
      "Epoch: [1][1760/2563]\tTime  2.761 ( 1.795)\tData  2.051 ( 1.115)\tLoss 2.7056e+00 (2.8149e+00)\tAcc@1  40.60 ( 37.89)\tAcc@5  66.80 ( 64.22)\n",
      "Epoch: [1][1770/2563]\tTime  2.787 ( 1.795)\tData  2.089 ( 1.115)\tLoss 2.7301e+00 (2.8140e+00)\tAcc@1  42.40 ( 37.91)\tAcc@5  65.60 ( 64.23)\n",
      "Epoch: [1][1780/2563]\tTime  2.969 ( 1.795)\tData  2.252 ( 1.115)\tLoss 2.6682e+00 (2.8129e+00)\tAcc@1  39.60 ( 37.93)\tAcc@5  66.00 ( 64.25)\n",
      "Epoch: [1][1790/2563]\tTime  2.896 ( 1.795)\tData  2.177 ( 1.115)\tLoss 2.6750e+00 (2.8121e+00)\tAcc@1  39.80 ( 37.94)\tAcc@5  66.80 ( 64.27)\n",
      "Epoch: [1][1800/2563]\tTime  2.909 ( 1.795)\tData  2.187 ( 1.115)\tLoss 2.6112e+00 (2.8110e+00)\tAcc@1  41.80 ( 37.96)\tAcc@5  68.60 ( 64.28)\n",
      "Epoch: [1][1810/2563]\tTime  3.000 ( 1.795)\tData  2.287 ( 1.115)\tLoss 2.7102e+00 (2.8101e+00)\tAcc@1  37.40 ( 37.98)\tAcc@5  68.00 ( 64.30)\n",
      "Epoch: [1][1820/2563]\tTime  2.980 ( 1.795)\tData  2.275 ( 1.115)\tLoss 2.6542e+00 (2.8092e+00)\tAcc@1  40.60 ( 38.00)\tAcc@5  65.00 ( 64.32)\n",
      "Epoch: [1][1830/2563]\tTime  2.873 ( 1.795)\tData  2.142 ( 1.115)\tLoss 2.5071e+00 (2.8083e+00)\tAcc@1  44.00 ( 38.01)\tAcc@5  68.40 ( 64.33)\n",
      "Epoch: [1][1840/2563]\tTime  3.191 ( 1.795)\tData  2.475 ( 1.115)\tLoss 2.6820e+00 (2.8073e+00)\tAcc@1  40.80 ( 38.03)\tAcc@5  66.00 ( 64.35)\n",
      "Epoch: [1][1850/2563]\tTime  2.911 ( 1.795)\tData  2.173 ( 1.115)\tLoss 2.8087e+00 (2.8065e+00)\tAcc@1  35.80 ( 38.04)\tAcc@5  64.80 ( 64.36)\n",
      "Epoch: [1][1860/2563]\tTime  3.130 ( 1.795)\tData  2.398 ( 1.115)\tLoss 2.8017e+00 (2.8056e+00)\tAcc@1  38.40 ( 38.06)\tAcc@5  65.00 ( 64.38)\n",
      "Epoch: [1][1870/2563]\tTime  2.925 ( 1.795)\tData  2.224 ( 1.115)\tLoss 2.6484e+00 (2.8047e+00)\tAcc@1  38.80 ( 38.07)\tAcc@5  66.20 ( 64.40)\n",
      "Epoch: [1][1880/2563]\tTime  2.753 ( 1.795)\tData  2.033 ( 1.115)\tLoss 2.6977e+00 (2.8037e+00)\tAcc@1  39.20 ( 38.09)\tAcc@5  66.00 ( 64.41)\n",
      "Epoch: [1][1890/2563]\tTime  2.809 ( 1.795)\tData  2.098 ( 1.115)\tLoss 2.5468e+00 (2.8027e+00)\tAcc@1  44.00 ( 38.11)\tAcc@5  67.40 ( 64.43)\n",
      "Epoch: [1][1900/2563]\tTime  2.853 ( 1.795)\tData  2.130 ( 1.114)\tLoss 2.6462e+00 (2.8016e+00)\tAcc@1  43.00 ( 38.13)\tAcc@5  68.60 ( 64.45)\n",
      "Epoch: [1][1910/2563]\tTime  2.805 ( 1.794)\tData  2.093 ( 1.114)\tLoss 2.4569e+00 (2.8006e+00)\tAcc@1  46.40 ( 38.14)\tAcc@5  71.40 ( 64.47)\n",
      "Epoch: [1][1920/2563]\tTime  2.987 ( 1.795)\tData  2.285 ( 1.114)\tLoss 2.5253e+00 (2.7994e+00)\tAcc@1  41.80 ( 38.16)\tAcc@5  69.40 ( 64.49)\n",
      "Epoch: [1][1930/2563]\tTime  2.989 ( 1.795)\tData  2.275 ( 1.114)\tLoss 2.7941e+00 (2.7985e+00)\tAcc@1  38.00 ( 38.18)\tAcc@5  65.60 ( 64.51)\n",
      "Epoch: [1][1940/2563]\tTime  2.898 ( 1.795)\tData  2.184 ( 1.114)\tLoss 2.5930e+00 (2.7977e+00)\tAcc@1  42.60 ( 38.19)\tAcc@5  66.20 ( 64.52)\n",
      "Epoch: [1][1950/2563]\tTime  2.936 ( 1.795)\tData  2.235 ( 1.114)\tLoss 2.5996e+00 (2.7965e+00)\tAcc@1  42.20 ( 38.22)\tAcc@5  66.60 ( 64.54)\n",
      "Epoch: [1][1960/2563]\tTime  2.772 ( 1.795)\tData  2.043 ( 1.114)\tLoss 2.5867e+00 (2.7954e+00)\tAcc@1  40.60 ( 38.23)\tAcc@5  70.00 ( 64.57)\n",
      "Epoch: [1][1970/2563]\tTime  3.159 ( 1.795)\tData  2.434 ( 1.114)\tLoss 2.6560e+00 (2.7942e+00)\tAcc@1  39.20 ( 38.25)\tAcc@5  67.60 ( 64.59)\n",
      "Epoch: [1][1980/2563]\tTime  3.061 ( 1.795)\tData  2.355 ( 1.114)\tLoss 2.4912e+00 (2.7934e+00)\tAcc@1  44.00 ( 38.26)\tAcc@5  70.80 ( 64.60)\n",
      "Epoch: [1][1990/2563]\tTime  2.842 ( 1.795)\tData  2.121 ( 1.114)\tLoss 2.5486e+00 (2.7924e+00)\tAcc@1  41.40 ( 38.28)\tAcc@5  68.00 ( 64.62)\n",
      "Epoch: [1][2000/2563]\tTime  2.849 ( 1.795)\tData  2.118 ( 1.114)\tLoss 2.5672e+00 (2.7914e+00)\tAcc@1  39.00 ( 38.30)\tAcc@5  64.40 ( 64.63)\n",
      "Epoch: [1][2010/2563]\tTime  2.884 ( 1.795)\tData  2.156 ( 1.113)\tLoss 2.6068e+00 (2.7902e+00)\tAcc@1  41.80 ( 38.32)\tAcc@5  69.20 ( 64.65)\n",
      "Epoch: [1][2020/2563]\tTime  2.796 ( 1.795)\tData  2.077 ( 1.113)\tLoss 2.7024e+00 (2.7891e+00)\tAcc@1  41.20 ( 38.34)\tAcc@5  63.20 ( 64.67)\n",
      "Epoch: [1][2030/2563]\tTime  2.815 ( 1.795)\tData  2.081 ( 1.113)\tLoss 2.6378e+00 (2.7881e+00)\tAcc@1  39.20 ( 38.35)\tAcc@5  70.60 ( 64.69)\n",
      "Epoch: [1][2040/2563]\tTime  2.899 ( 1.794)\tData  2.162 ( 1.113)\tLoss 2.5776e+00 (2.7871e+00)\tAcc@1  41.40 ( 38.37)\tAcc@5  69.40 ( 64.71)\n",
      "Epoch: [1][2050/2563]\tTime  2.958 ( 1.794)\tData  2.227 ( 1.113)\tLoss 2.5927e+00 (2.7860e+00)\tAcc@1  40.80 ( 38.39)\tAcc@5  69.00 ( 64.72)\n",
      "Epoch: [1][2060/2563]\tTime  2.959 ( 1.794)\tData  2.238 ( 1.112)\tLoss 2.5944e+00 (2.7851e+00)\tAcc@1  41.40 ( 38.40)\tAcc@5  72.80 ( 64.74)\n",
      "Epoch: [1][2070/2563]\tTime  3.189 ( 1.794)\tData  2.457 ( 1.112)\tLoss 2.4798e+00 (2.7842e+00)\tAcc@1  44.80 ( 38.42)\tAcc@5  71.40 ( 64.76)\n",
      "Epoch: [1][2080/2563]\tTime  3.053 ( 1.795)\tData  2.346 ( 1.113)\tLoss 2.6841e+00 (2.7832e+00)\tAcc@1  40.00 ( 38.43)\tAcc@5  68.40 ( 64.78)\n",
      "Epoch: [1][2090/2563]\tTime  3.010 ( 1.795)\tData  2.301 ( 1.113)\tLoss 2.6234e+00 (2.7822e+00)\tAcc@1  41.40 ( 38.45)\tAcc@5  67.40 ( 64.80)\n",
      "Epoch: [1][2100/2563]\tTime  2.706 ( 1.795)\tData  1.985 ( 1.113)\tLoss 2.4955e+00 (2.7813e+00)\tAcc@1  44.20 ( 38.47)\tAcc@5  68.80 ( 64.82)\n"
     ]
    }
   ],
   "source": [
    "for epoch in range(START_EPOCH, 2):\n",
    "#    adjust_learning_rate(optimizer, epoch)\n",
    "\n",
    "    # train for one epoch\n",
    "    train(train_loader, model, criterion, optimizer, epoch)\n",
    "\n",
    "    # evaluate on validation set\n",
    "    acc1 = validate(val_loader, model, criterion)\n",
    "\n",
    "    # remember best acc@1 and save checkpoint\n",
    "    is_best = acc1 > best_acc1\n",
    "    best_acc1 = max(acc1, best_acc1)\n",
    "\n",
    "\n",
    "    save_checkpoint({\n",
    "        'epoch': epoch + 1,\n",
    "        'arch': ARCH,\n",
    "        'state_dict': model.state_dict(),\n",
    "        'best_acc1': best_acc1,\n",
    "        'optimizer' : optimizer.state_dict(),\n",
    "    }, is_best)\n",
    "    \n",
    "    scheduler.step()\n",
    "    print('lr: ' + str(scheduler.get_last_lr()[0]))\n",
    "    \n",
    "    writer.add_scalar(\"lr\", scheduler.get_last_lr()[0], global_step = global_step)\n",
    "    \n",
    "    wandb.log({'lr': scheduler.get_last_lr()[0]})"
   ]
  },
  {
   "cell_type": "code",
   "execution_count": null,
   "id": "a5ec8986",
   "metadata": {},
   "outputs": [],
   "source": [
    "writer.close()\n",
    "%load_ext tensorboard\n",
    "%tensorboard --logdir=runs"
   ]
  },
  {
   "cell_type": "code",
   "execution_count": null,
   "id": "0e7408b3",
   "metadata": {},
   "outputs": [],
   "source": []
  },
  {
   "cell_type": "code",
   "execution_count": null,
   "id": "c436845a",
   "metadata": {},
   "outputs": [],
   "source": []
  }
 ],
 "metadata": {
  "kernelspec": {
   "display_name": "Python 3 (ipykernel)",
   "language": "python",
   "name": "python3"
  },
  "language_info": {
   "codemirror_mode": {
    "name": "ipython",
    "version": 3
   },
   "file_extension": ".py",
   "mimetype": "text/x-python",
   "name": "python",
   "nbconvert_exporter": "python",
   "pygments_lexer": "ipython3",
   "version": "3.8.10"
  }
 },
 "nbformat": 4,
 "nbformat_minor": 5
}
